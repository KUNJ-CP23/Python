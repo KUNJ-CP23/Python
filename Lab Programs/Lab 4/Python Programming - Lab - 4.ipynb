{
 "cells": [
  {
   "cell_type": "markdown",
   "metadata": {},
   "source": [
    "\n",
    "<a href='https://www.darshan.ac.in/'> <img src='https://www.darshan.ac.in/Content/media/DU_Logo.svg' width=\"250\" height=\"300\"/></a>\n",
    "<pre>\n",
    "<center><b><h1>Python Programming - 2301CS404</b></center>\n",
    "<center><b><h1>Lab - 4</b></center> \n",
    "<center><b><h2>Kunj Ramoliya - 23010101222</b></center> \n",
    "<pre>"
   ]
  },
  {
   "cell_type": "markdown",
   "metadata": {},
   "source": [
    "# String"
   ]
  },
  {
   "cell_type": "markdown",
   "metadata": {},
   "source": [
    "### 01) WAP to check whether the given string is palindrome or not."
   ]
  },
  {
   "cell_type": "code",
   "execution_count": 13,
   "metadata": {},
   "outputs": [
    {
     "name": "stdin",
     "output_type": "stream",
     "text": [
      "Enter a String :  lol\n"
     ]
    },
    {
     "name": "stdout",
     "output_type": "stream",
     "text": [
      "Palindrome\n"
     ]
    }
   ],
   "source": [
    "s = input(\"Enter a String : \")\n",
    "rev = s[::-1]\n",
    "if(s == rev):\n",
    "    print(\"Palindrome\")\n",
    "else:\n",
    "    print(\"Not a Palindrome\")"
   ]
  },
  {
   "cell_type": "markdown",
   "metadata": {},
   "source": [
    "### 02) WAP to reverse the words in the given string."
   ]
  },
  {
   "cell_type": "code",
   "execution_count": 46,
   "metadata": {},
   "outputs": [
    {
     "name": "stdin",
     "output_type": "stream",
     "text": [
      "Enter String :  kunj is pretty\n"
     ]
    },
    {
     "name": "stdout",
     "output_type": "stream",
     "text": [
      "Result : pretty is kunj\n"
     ]
    }
   ],
   "source": [
    "s1 = input(\"Enter String : \")\n",
    "l1 = []\n",
    "l1 = s1.split(\" \")\n",
    "l1.reverse()\n",
    "#join string ni method che list ni nay\n",
    "res = ' '.join(l1)\n",
    "print(f\"Result : {res}\")"
   ]
  },
  {
   "cell_type": "markdown",
   "metadata": {},
   "source": [
    "### 03) WAP to remove ith character from given string."
   ]
  },
  {
   "cell_type": "code",
   "execution_count": 2,
   "metadata": {},
   "outputs": [
    {
     "name": "stdin",
     "output_type": "stream",
     "text": [
      "Enter String :  Kuunj\n",
      "Enter index of char :  1\n"
     ]
    },
    {
     "name": "stdout",
     "output_type": "stream",
     "text": [
      "Result : Kunj\n"
     ]
    }
   ],
   "source": [
    "str = input(\"Enter String : \")\n",
    "i = int(input(\"Enter index of char : \"))\n",
    "#0 thi i means --> 0 to i-1 and plus i+1 till end\n",
    "res = str[:i] + str[i+1:]\n",
    "print(f\"Result : {res}\")"
   ]
  },
  {
   "cell_type": "markdown",
   "metadata": {},
   "source": [
    "### 04) WAP to find length of string without using len function."
   ]
  },
  {
   "cell_type": "code",
   "execution_count": 61,
   "metadata": {},
   "outputs": [
    {
     "name": "stdin",
     "output_type": "stream",
     "text": [
      "Enter String :  asdf asdf asdf\n"
     ]
    },
    {
     "name": "stdout",
     "output_type": "stream",
     "text": [
      "Length : 14\n"
     ]
    }
   ],
   "source": [
    "str = input(\"Enter String : \")\n",
    "count = 0\n",
    "for i in str:\n",
    "    count += 1\n",
    "print(f\"Length : {count}\")"
   ]
  },
  {
   "cell_type": "markdown",
   "metadata": {},
   "source": [
    "### 05) WAP to print even length word in string."
   ]
  },
  {
   "cell_type": "code",
   "execution_count": 73,
   "metadata": {},
   "outputs": [
    {
     "name": "stdin",
     "output_type": "stream",
     "text": [
      "Enter String :  hey hi yoa hola yeah\n"
     ]
    },
    {
     "name": "stdout",
     "output_type": "stream",
     "text": [
      "hi\n",
      "hola\n",
      "yeah\n"
     ]
    }
   ],
   "source": [
    "s = input(\"Enter String : \")\n",
    "l = s.split(' ')\n",
    "for i in range(len(l)):\n",
    "    if(len(l[i]) % 2 == 0):\n",
    "        print(l[i])"
   ]
  },
  {
   "cell_type": "markdown",
   "metadata": {},
   "source": [
    "### 06) WAP to count numbers of vowels in given string."
   ]
  },
  {
   "cell_type": "code",
   "execution_count": 83,
   "metadata": {},
   "outputs": [
    {
     "name": "stdin",
     "output_type": "stream",
     "text": [
      "Enter a sentence:  a red apple is a \n"
     ]
    },
    {
     "name": "stdout",
     "output_type": "stream",
     "text": [
      "Number of vowels: 6\n"
     ]
    }
   ],
   "source": [
    "# s = input(\"Enter String: \")\n",
    "# count = 0\n",
    "\n",
    "# for i in range (len(s)):\n",
    "#     if i == 'a' or i == 'e' or i == 'i' or i == 'o' or i == 'u':\n",
    "#         count += 1\n",
    "# print(\"Number of vowels : \", count)\n",
    "\n",
    "#upar vala doesn't works\n",
    "\n",
    "vowels = \"aeiouAEIOU\"\n",
    "count = 0\n",
    "sentence = input(\"Enter a sentence: \")\n",
    "\n",
    "for char in sentence:\n",
    "    if char in vowels:\n",
    "        count += 1\n",
    "\n",
    "print(\"Number of vowels:\", count)"
   ]
  },
  {
   "cell_type": "markdown",
   "metadata": {},
   "source": [
    "### 07) WAP to capitalize the first and last character of each word in a string."
   ]
  },
  {
   "cell_type": "code",
   "execution_count": 10,
   "metadata": {},
   "outputs": [
    {
     "name": "stdin",
     "output_type": "stream",
     "text": [
      "Enter a String:  hello from her, her is she, she is me, k\n"
     ]
    },
    {
     "name": "stdout",
     "output_type": "stream",
     "text": [
      "HellO FroM Her, HeR IS She, ShE IS Me, K\n"
     ]
    }
   ],
   "source": [
    "s = input(\"Enter a String: \")\n",
    "#niche list banse words ni\n",
    "words = s.split()\n",
    "result = []\n",
    "\n",
    "for i in words:\n",
    "    if(len(i) > 1):\n",
    "        result.append(i[0].upper() + i[1:-1] + i[-1].upper())\n",
    "    else:\n",
    "        result.append(i.upper())\n",
    "print(' '.join(result))"
   ]
  },
  {
   "cell_type": "markdown",
   "metadata": {},
   "source": [
    "### 08) WAP to convert given array to string."
   ]
  },
  {
   "cell_type": "code",
   "execution_count": 30,
   "metadata": {},
   "outputs": [
    {
     "name": "stdout",
     "output_type": "stream",
     "text": [
      "K is self-enthusiast\n",
      "<class 'str'>\n"
     ]
    }
   ],
   "source": [
    "arr = ['K', 'is', 'self-enthusiast']\n",
    "result = \" \".join(arr)\n",
    "print(result)\n",
    "print(type(result))"
   ]
  },
  {
   "cell_type": "markdown",
   "metadata": {},
   "source": [
    "### 09) Check if the password and confirm password is same or not. \n",
    "### In case of only case's mistake, show the error message."
   ]
  },
  {
   "cell_type": "code",
   "execution_count": 5,
   "metadata": {},
   "outputs": [
    {
     "name": "stdin",
     "output_type": "stream",
     "text": [
      "Enter your password :  KunjRamoliya\n",
      "Re-Enter your password :  kunjramoliya\n"
     ]
    },
    {
     "name": "stdout",
     "output_type": "stream",
     "text": [
      "Passwords do not match, (Case mismatch)\n"
     ]
    }
   ],
   "source": [
    "pw = input(\"Enter your password : \")\n",
    "cpw = input(\"Re-Enter your password : \")\n",
    "\n",
    "if pw == cpw:\n",
    "    print(\"Password matched\")\n",
    "elif pw.lower() == cpw.lower():\n",
    "    print(\"Passwords do not match, (Case mismatch)\")\n",
    "else:\n",
    "    print(\"Passwords do not match\")"
   ]
  },
  {
   "cell_type": "markdown",
   "metadata": {},
   "source": [
    "### 10) : Display credit card number. \n",
    "### card no. : 1234 5678 9012 3456\n",
    "### display as  : **** **** **** 3456"
   ]
  },
  {
   "cell_type": "code",
   "execution_count": 13,
   "metadata": {},
   "outputs": [
    {
     "name": "stdout",
     "output_type": "stream",
     "text": [
      "**** **** **** 3456\n"
     ]
    }
   ],
   "source": [
    "card_no = '1234 5678 9012 3456'\n",
    "card_no = \"**** **** **** \" + card_no[-4:]\n",
    "print(card_no)"
   ]
  },
  {
   "cell_type": "markdown",
   "metadata": {},
   "source": [
    "### 11) : Checking if the two strings are Anagram or not.\n",
    "### s1 = decimal and s2 = medical are Anagram"
   ]
  },
  {
   "cell_type": "code",
   "execution_count": 15,
   "metadata": {},
   "outputs": [
    {
     "name": "stdout",
     "output_type": "stream",
     "text": [
      "Strings are anagrams\n"
     ]
    }
   ],
   "source": [
    "s1 = 'how'\n",
    "s2 = 'who'\n",
    "\n",
    "if len(s1) != len(s2) :\n",
    "    print(\"Strings are not anagram\")\n",
    "\n",
    "if sorted(s1) == sorted(s2) :\n",
    "    print(\"Strings are anagrams\")\n",
    "else :\n",
    "    print(\"Strings are not anagram\")"
   ]
  },
  {
   "cell_type": "markdown",
   "metadata": {},
   "source": [
    "### 12) : Rearrange the given string. First lowercase then uppercase alphabets.\n",
    "### input : EHlsarwiwhtwMV\n",
    "### output : lsarwiwhtwEHMV"
   ]
  },
  {
   "cell_type": "code",
   "execution_count": 21,
   "metadata": {},
   "outputs": [
    {
     "name": "stdout",
     "output_type": "stream",
     "text": [
      "Output : lsarwiwhtwEHMV\n"
     ]
    }
   ],
   "source": [
    "s = 'EHlsarwiwhtwMV'\n",
    "upper = ''\n",
    "lower = ''\n",
    "for i in s:\n",
    "#string don't have append method\n",
    "    if i.isupper():\n",
    "        upper += i\n",
    "    else:\n",
    "        lower += i\n",
    "\n",
    "print(f\"Output : {lower+upper}\")"
   ]
  }
 ],
 "metadata": {
  "kernelspec": {
   "display_name": "Python 3 (ipykernel)",
   "language": "python",
   "name": "python3"
  },
  "language_info": {
   "codemirror_mode": {
    "name": "ipython",
    "version": 3
   },
   "file_extension": ".py",
   "mimetype": "text/x-python",
   "name": "python",
   "nbconvert_exporter": "python",
   "pygments_lexer": "ipython3",
   "version": "3.12.7"
  },
  "vscode": {
   "interpreter": {
    "hash": "31f2aee4e71d21fbe5cf8b01ff0e069b9275f58929596ceb00d14d90e3e16cd6"
   }
  }
 },
 "nbformat": 4,
 "nbformat_minor": 4
}
