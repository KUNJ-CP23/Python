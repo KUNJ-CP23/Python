{
 "cells": [
  {
   "cell_type": "markdown",
   "metadata": {},
   "source": [
    "<a href='https://www.darshan.ac.in/'> <img src='https://www.darshan.ac.in/Content/media/DU_Logo.svg' width=\"250\" height=\"300\"/></a>\n",
    "<pre>\n",
    "<center><b><h1>Python Programming - 2301CS404</b></center>\n",
    "<center><b><h1>Lab - 13</b></center>\n",
    "<center><b><h2>Kunj Ramoliya | 23010101222 | A1-115</b></center>\n",
    "<pre>"
   ]
  },
  {
   "cell_type": "markdown",
   "metadata": {},
   "source": [
    "# OOP"
   ]
  },
  {
   "cell_type": "markdown",
   "metadata": {},
   "source": [
    "### 01) Write a Program to create a class by name Students, and initialize attributes like name, age, and grade while creating an object."
   ]
  },
  {
   "cell_type": "code",
   "execution_count": 9,
   "metadata": {},
   "outputs": [
    {
     "name": "stdout",
     "output_type": "stream",
     "text": [
      "Name : Kunj\n",
      "Age : 20\n",
      "Grade : O\n"
     ]
    }
   ],
   "source": [
    "class Students :\n",
    "    def __init__(self, name, age, grade):\n",
    "        self.name = name\n",
    "        self.age = age\n",
    "        self.grade = grade\n",
    "\n",
    "s1 = Students(\"Kunj\", 20, \"O\")\n",
    "\n",
    "print(\"Name :\", s1.name)\n",
    "print(\"Age :\", s1.age)\n",
    "print(\"Grade :\", s1.grade)"
   ]
  },
  {
   "cell_type": "markdown",
   "metadata": {},
   "source": [
    "### 02) Create a class named Bank_Account with Account_No, User_Name, Email,Account_Type and Account_Balance data members. Also create a method GetAccountDetails() and DisplayAccountDetails(). Create main method to demonstrate the Bank_Account class."
   ]
  },
  {
   "cell_type": "code",
   "execution_count": 7,
   "metadata": {},
   "outputs": [
    {
     "name": "stdout",
     "output_type": "stream",
     "text": [
      "------Account_Details------\n",
      "Account No : 9876543298765432\n",
      "User Name : Kunj\n",
      "Email : kunj23@gmail.com\n",
      "Account Type : Salary\n",
      "Account Balance : 10000000.0\n"
     ]
    }
   ],
   "source": [
    "class Bank_Account:\n",
    "    def __init__(self, Account_No, User_Name, Email, Account_Type, Account_Balance) :\n",
    "        self.Account_No = Account_No\n",
    "        self.User_Name = User_Name\n",
    "        self.Email = Email\n",
    "        self.Account_Type = Account_Type\n",
    "        self.Account_Balance = Account_Balance\n",
    "\n",
    "    def GetAccountDetails(self) :\n",
    "        print(\"Account No :\", self.Account_No)\n",
    "        print(\"User Name :\", self.User_Name)\n",
    "        print(\"Email :\", self.Email)\n",
    "        print(\"Account Type :\", self.Account_Type)\n",
    "        print(\"Account Balance :\", self.Account_Balance)\n",
    "\n",
    "    def DisplayAccountDeatails(self) :\n",
    "        print(\"------Account_Details------\")\n",
    "        self.GetAccountDetails()\n",
    "\n",
    "\n",
    "a1 = Bank_Account(9876543298765432, \"Kunj\", \"kunj23@gmail.com\", \"Salary\", 10000000.0)\n",
    "a1.DisplayAccountDeatails()"
   ]
  },
  {
   "cell_type": "markdown",
   "metadata": {},
   "source": [
    "### 03) WAP to create Circle class with area and perimeter function to find area and perimeter of circle."
   ]
  },
  {
   "cell_type": "code",
   "execution_count": 9,
   "metadata": {},
   "outputs": [
    {
     "name": "stdin",
     "output_type": "stream",
     "text": [
      "Enter the radius of circle : 2\n"
     ]
    },
    {
     "name": "stdout",
     "output_type": "stream",
     "text": [
      "Area of circle : 12.566370614359172\n",
      "Perimeter of circle : 12.566370614359172\n"
     ]
    }
   ],
   "source": [
    "import math\n",
    "\n",
    "class Circle :\n",
    "    def __init__(self, radius) :\n",
    "        self.radius = radius \n",
    "\n",
    "    def area(self) :\n",
    "        return math.pi * self.radius**2\n",
    "\n",
    "    def perimeter(self) :\n",
    "        return 2 * math.pi * self.radius\n",
    "\n",
    "r = int(input(\"Enter the radius of circle :\"))\n",
    "c1 = Circle(r)\n",
    "print(\"Area of circle :\", c1.area())\n",
    "print(\"Perimeter of circle :\", c1.perimeter())"
   ]
  },
  {
   "cell_type": "markdown",
   "metadata": {},
   "source": [
    "### 04) Create a class for employees that includes attributes such as name, age, salary, and methods to update and display employee information."
   ]
  },
  {
   "cell_type": "code",
   "execution_count": 13,
   "metadata": {},
   "outputs": [
    {
     "name": "stdout",
     "output_type": "stream",
     "text": [
      "Name: Kunj\n",
      "Age: 20\n",
      "Salary: 500000\n",
      "\n",
      "Name: Kunj\n",
      "Age: 30\n",
      "Salary: 5500000\n"
     ]
    }
   ],
   "source": [
    "class Employee:\n",
    "    def __init__(self, name, age, salary):\n",
    "        self.name = name\n",
    "        self.age = age\n",
    "        self.salary = salary\n",
    "\n",
    "    def update_info(self, name=None, age=None, salary=None):\n",
    "        if name:\n",
    "            self.name = name\n",
    "        if age:\n",
    "            self.age = age\n",
    "        if salary:\n",
    "            self.salary = salary\n",
    "\n",
    "    def display_info(self):\n",
    "        print(f\"Name: {self.name}\")\n",
    "        print(f\"Age: {self.age}\")\n",
    "        print(f\"Salary: {self.salary}\")\n",
    "\n",
    "emp1 = Employee(\"Kunj\", 20, 500000)\n",
    "emp1.display_info()\n",
    "print(\"\")\n",
    "emp1.update_info(age=30, salary=5500000)\n",
    "emp1.display_info()"
   ]
  },
  {
   "cell_type": "markdown",
   "metadata": {},
   "source": [
    "### 05) Create a bank account class with methods to deposit, withdraw, and check balance."
   ]
  },
  {
   "cell_type": "code",
   "execution_count": 17,
   "metadata": {},
   "outputs": [
    {
     "name": "stdout",
     "output_type": "stream",
     "text": [
      "Account Balance : 10000000\n",
      "Account Balance : 11500000\n",
      "Account Balance : 11440000\n"
     ]
    }
   ],
   "source": [
    "class bank_account :\n",
    "    def __init__(self, Name, Account_Opening_Balance) :\n",
    "        self.Name = Name\n",
    "        self.Account_Opening_Balance = Account_Opening_Balance\n",
    "\n",
    "    def Deposite(self, money) :\n",
    "        self.Account_Opening_Balance += money\n",
    "\n",
    "    def withdraw(self, money) :\n",
    "        if self.Account_Opening_Balance >= money :\n",
    "            self.Account_Opening_Balance -= money\n",
    "        else :\n",
    "            print(\"Insufficient Balance\")\n",
    "\n",
    "    def check_balance(self) :\n",
    "        print(\"Account Balance :\", self.Account_Opening_Balance)\n",
    "\n",
    "ac1 = bank_account(\"Kunj\", 10000000)\n",
    "ac1.check_balance()\n",
    "ac1.Deposite(1500000)\n",
    "ac1.check_balance()\n",
    "ac1.withdraw(60000)\n",
    "ac1.check_balance()"
   ]
  },
  {
   "cell_type": "markdown",
   "metadata": {},
   "source": [
    "### 06) Create a class for managing inventory that includes attributes such as item name, price, quantity, and methods to add, remove, and update items."
   ]
  },
  {
   "cell_type": "code",
   "execution_count": 21,
   "metadata": {},
   "outputs": [
    {
     "name": "stdout",
     "output_type": "stream",
     "text": [
      "Item : Laptop   Price : 50000   Quantity : 10\n",
      "Item : Laptop   Price : 52000   Quantity : 12\n"
     ]
    }
   ],
   "source": [
    "class Inventory :\n",
    "    def __init__(self, item_name, price, quantity) :\n",
    "        self.item_name = item_name\n",
    "        self.price = price\n",
    "        self.quantity = quantity\n",
    "\n",
    "    def add_items(self, count) :\n",
    "        self.quantity += count\n",
    "\n",
    "    def remove_items(self, count) :\n",
    "        if count <= self.quantity :\n",
    "            self.quantity -= count\n",
    "        else:\n",
    "            print(\"Not enough items in stock\")\n",
    "\n",
    "    def update_price(self, new_price) :\n",
    "        self.price = new_price\n",
    "\n",
    "    def display_info(self):\n",
    "        print(\"Item :\", self.item_name, \"  Price :\", self.price, \"  Quantity :\", self.quantity)\n",
    "\n",
    "item1 = Inventory(\"Laptop\", 50000, 10)\n",
    "item1.display_info()\n",
    "item1.add_items(5)\n",
    "item1.remove_items(3)\n",
    "item1.update_price(52000)\n",
    "item1.display_info()"
   ]
  },
  {
   "cell_type": "markdown",
   "metadata": {},
   "source": [
    "### 07) Create a Class with instance attributes of your choice."
   ]
  },
  {
   "cell_type": "code",
   "execution_count": 27,
   "metadata": {},
   "outputs": [
    {
     "name": "stdout",
     "output_type": "stream",
     "text": [
      "Car : Audi Q8 Audi ||  Year : 2024\n"
     ]
    }
   ],
   "source": [
    "class Car :\n",
    "    def __init__(self, brand, model, year) :\n",
    "        self.brand = brand\n",
    "        self.model = model\n",
    "        self.year = year\n",
    "\n",
    "    def display_car_info(self) :\n",
    "        print(\"Car :\", self.brand, self.model, \"||  Year :\", self.year)\n",
    "\n",
    "car1 = Car(\"Audi Q8\", \"Audi\", 2024)\n",
    "car1.display_car_info()"
   ]
  },
  {
   "cell_type": "markdown",
   "metadata": {},
   "source": [
    "### 08) Create one class student_kit\n",
    "#### Within the student_kit class create one class attribute principal name ( Mr ABC )\n",
    "#### Create one attendance method and take input as number of days.\n",
    "#### While creating student take input their name .\n",
    "#### Create one certificate for each student by taking input of number of days present in class."
   ]
  },
  {
   "cell_type": "code",
   "execution_count": 33,
   "metadata": {},
   "outputs": [
    {
     "name": "stdin",
     "output_type": "stream",
     "text": [
      "Enter number of days present:  365\n"
     ]
    },
    {
     "name": "stdout",
     "output_type": "stream",
     "text": [
      "\n",
      "-- Certificate of Attendance---\n",
      "Principal : Mr ABC\n",
      "Student Name : xyz\n",
      "Days Present : 365\n"
     ]
    }
   ],
   "source": [
    "class StudentKit :\n",
    "    principal_name = \"Mr ABC\"\n",
    "\n",
    "    def __init__(self, student_name) :\n",
    "        self.student_name = student_name\n",
    "\n",
    "    def attendance(self, days_present) :\n",
    "        self.days_present = days_present\n",
    "\n",
    "    def generate_certificate(self) :\n",
    "        print()\n",
    "        print(\"-- Certificate of Attendance---\")\n",
    "        print(\"Principal :\", StudentKit.principal_name)\n",
    "        print(\"Student Name :\", self.student_name)\n",
    "        print(\"Days Present :\", self.days_present)\n",
    "\n",
    "student1 = StudentKit(\"xyz\")\n",
    "days = int(input(\"Enter number of days present: \"))\n",
    "student1.attendance(days)\n",
    "student1.generate_certificate()"
   ]
  },
  {
   "cell_type": "markdown",
   "metadata": {},
   "source": [
    "### 09) Define Time class with hour and minute as data member. Also define addition method to add two time objects."
   ]
  },
  {
   "cell_type": "code",
   "execution_count": 37,
   "metadata": {},
   "outputs": [
    {
     "name": "stdout",
     "output_type": "stream",
     "text": [
      "5 hours and 20 minutes\n"
     ]
    }
   ],
   "source": [
    "class Time :\n",
    "    def __init__(self, h, m) :\n",
    "        self.h = h\n",
    "        self.m = m\n",
    "\n",
    "    def add_time(self, other) :\n",
    "        total_minutes = self.m + other.m\n",
    "        extra_hours = total_minutes // 60\n",
    "        new_minutes = total_minutes % 60\n",
    "        new_hours = self.h + other.h + extra_hours\n",
    "        return Time(new_hours, new_minutes)\n",
    "\n",
    "    def display_time(self) :\n",
    "        print(self.h, \"hours and\", self.m, \"minutes\")\n",
    "\n",
    "t1 = Time(3, 45)\n",
    "t2 = Time(1, 35)\n",
    "\n",
    "result = t1.add_time(t2)\n",
    "result.display_time()"
   ]
  },
  {
   "cell_type": "code",
   "execution_count": null,
   "metadata": {},
   "outputs": [],
   "source": []
  }
 ],
 "metadata": {
  "kernelspec": {
   "display_name": "Python 3 (ipykernel)",
   "language": "python",
   "name": "python3"
  },
  "language_info": {
   "codemirror_mode": {
    "name": "ipython",
    "version": 3
   },
   "file_extension": ".py",
   "mimetype": "text/x-python",
   "name": "python",
   "nbconvert_exporter": "python",
   "pygments_lexer": "ipython3",
   "version": "3.12.7"
  }
 },
 "nbformat": 4,
 "nbformat_minor": 4
}
