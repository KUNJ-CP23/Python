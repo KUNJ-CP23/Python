{
 "cells": [
  {
   "cell_type": "markdown",
   "metadata": {},
   "source": [
    "<a href='https://www.darshan.ac.in/'> <img src='https://www.darshan.ac.in/Content/media/DU_Logo.svg' width=\"250\" height=\"300\"/></a>\n",
    "<pre>\n",
    "<center><b><h1>Python Programming - 2301CS404</b></center>\n",
    "<center><b><h1>Lab - 9</b></center>\n",
    "<center><b><h2>Kunj Ramoliya | 23010101222 | 06/02/24</b></center>\n",
    "<pre>"
   ]
  },
  {
   "cell_type": "markdown",
   "metadata": {},
   "source": [
    "# File I/O"
   ]
  },
  {
   "cell_type": "markdown",
   "metadata": {},
   "source": [
    "### 01) WAP to read and display the contents of a text file. (also try to open the file in some other directory) \n",
    "#### - in the form of a string\n",
    "#### - line by line\n",
    "#### - in the form of a list"
   ]
  },
  {
   "cell_type": "code",
   "execution_count": 1,
   "metadata": {},
   "outputs": [
    {
     "name": "stdout",
     "output_type": "stream",
     "text": [
      "String data : hello there\n",
      "how you doin'\n",
      "\n",
      "hello there\n",
      "how you doin'\n",
      "['hello there\\n', \"how you doin'\\n\"]\n"
     ]
    }
   ],
   "source": [
    "fp = open(\"file1.txt\",\"r\")\n",
    "\n",
    "#read function gives string output after reading file\n",
    "data = str(fp.read())\n",
    "print(f\"String data : {data}\")\n",
    "\n",
    "#seek is written cause after reading data once, cursor is at the end\n",
    "fp.seek(0,0) # 0th index from 0 beginning\n",
    "\n",
    "#readlines return list, hence iterated\n",
    "li = fp.readlines()\n",
    "# print(li) gives [] as output\n",
    "for i in li:\n",
    "    print(i,end='')\n",
    "\n",
    "fp.seek(0,0)\n",
    "\n",
    "li_ans = []\n",
    "li2 = fp.readlines()\n",
    "\n",
    "for i in li2:\n",
    "    li_ans.append(i)\n",
    "\n",
    "print(li_ans)\n",
    "fp.close()"
   ]
  },
  {
   "cell_type": "markdown",
   "metadata": {},
   "source": [
    "### 02) WAP to create file named \"new.txt\" only if it doesn't exist."
   ]
  },
  {
   "cell_type": "code",
   "execution_count": 40,
   "metadata": {},
   "outputs": [],
   "source": [
    "#writing in a file which doesn't exists, create a new , so here we go....\n",
    "fp = open(\"new.txt\",\"w\")\n",
    "fp.close()\n",
    "\n",
    "#file is created"
   ]
  },
  {
   "cell_type": "markdown",
   "metadata": {},
   "source": [
    "### 03) WAP to read first 5 lines from the text file."
   ]
  },
  {
   "cell_type": "code",
   "execution_count": 9,
   "metadata": {},
   "outputs": [
    {
     "name": "stdout",
     "output_type": "stream",
     "text": [
      "hi asdf\n",
      "hello asdf\n",
      "how asdf\n",
      "are asdf\n",
      "you asdf\n"
     ]
    }
   ],
   "source": [
    "fp = open(\"text1.txt\",\"r\")\n",
    "dat = fp.readlines()\n",
    "count=0\n",
    "for i in dat:\n",
    "    if(count<5):\n",
    "        print(i,end='')\n",
    "    count += 1\n",
    "fp.close()"
   ]
  },
  {
   "cell_type": "markdown",
   "metadata": {},
   "source": [
    "### 04) WAP to find the longest word(s) in a file"
   ]
  },
  {
   "cell_type": "code",
   "execution_count": 21,
   "metadata": {},
   "outputs": [
    {
     "name": "stdout",
     "output_type": "stream",
     "text": [
      "['hi', 'asdf', 'hello', 'asdf', 'how', 'asdf', 'are', 'asdf', 'you', 'asdf', 'doin', 'asdf', 'asdfg', 'asdf', 'asdfghj', 'asdfggg']\n",
      "Length of longest word :  7\n",
      "Maximum length word : ['asdfghj', 'asdfggg']\n"
     ]
    }
   ],
   "source": [
    "fp = open(\"text1.txt\",\"r\")\n",
    "# dat = fp.readlines()\n",
    "# maxlen = 0\n",
    "# for i in dat:\n",
    "#     for j in i:\n",
    "#         if(len(j)>maxlen):\n",
    "#             maxlen = len(j)\n",
    "\n",
    "#corrected code\n",
    "#aakhi file read karse and string return karse jene aapde split kari chi \n",
    "data = fp.read().split()\n",
    "print(data)\n",
    "maxlen = max( [len(i) for i in data] )\n",
    "print(\"Length of longest word : \",maxlen)\n",
    "#list is used cuz we want all words of that highest length\n",
    "li = [i for i in data if len(i)==maxlen]\n",
    "\n",
    "print(f\"Maximum length word : {li}\")\n",
    "fp.close()"
   ]
  },
  {
   "cell_type": "markdown",
   "metadata": {},
   "source": [
    "### 05) WAP to count the no. of lines, words and characters in a given text file."
   ]
  },
  {
   "cell_type": "code",
   "execution_count": 39,
   "metadata": {},
   "outputs": [
    {
     "name": "stdout",
     "output_type": "stream",
     "text": [
      "No. of lines : 2 \n",
      "No. of words : 5 \n",
      "No. of chars : 21\n"
     ]
    }
   ],
   "source": [
    "fp = open(\"file1.txt\",\"r\")\n",
    "\n",
    "#readlines will read all lines\n",
    "li = fp.readlines()\n",
    "#to get no of lines, we return lenght of that list\n",
    "noOfLines = len(li)\n",
    "print(f\"No. of lines : {noOfLines} \")\n",
    "\n",
    "fp.seek(0,0)\n",
    "\n",
    "#read returns complete files as string so splitting it, will give no of words\n",
    "noOfWords = len(fp.read().split())\n",
    "print(f\"No. of words : {noOfWords} \")\n",
    "\n",
    "fp.seek(0,0)\n",
    "\n",
    "noOfChars = 0\n",
    "for i in fp.read().split():\n",
    "    noOfChars += len(i)\n",
    "\n",
    "#noOfChars = sum(len(word) for idx, word in enumerate(fp.read().split()))\n",
    "\n",
    "print(f\"No. of chars : {noOfChars}\")\n",
    "fp.close()"
   ]
  },
  {
   "cell_type": "markdown",
   "metadata": {},
   "source": [
    "### 06) WAP to copy the content of a file to the another file."
   ]
  },
  {
   "cell_type": "code",
   "execution_count": 23,
   "metadata": {},
   "outputs": [
    {
     "name": "stdout",
     "output_type": "stream",
     "text": [
      "Data Copied in existing file\n",
      "Data Copied in non-existing file\n",
      "Content copied successfully !!\n"
     ]
    }
   ],
   "source": [
    "#2 alag file ne open kare a file pointer na name same na hoi sake but ek no data fetch  \n",
    "#kari a ne close kari do and then use that name again, prolly done below\n",
    "fp = open(\"text1.txt\",\"r\")\n",
    "data = fp.read()\n",
    "fp.close()\n",
    "\n",
    "#new empty file already existed\n",
    "fp = open(\"new.txt\",\"w\")\n",
    "fp.write(data)\n",
    "print(\"Data Copied in existing file\")\n",
    "# print(fp.read())\n",
    "fp.close()\n",
    "\n",
    "fp = open(\"new1.txt\",\"w\")\n",
    "fp.write(data)\n",
    "print(\"Data Copied in non-existing file\")\n",
    "# print(fp.read())\n",
    "fp.close()\n",
    "\n",
    "# -------------------------you can also------------------------\n",
    "fp1 = open('text1.txt', 'r')\n",
    "fp2 = open('new.txt', 'w')\n",
    "\n",
    "fp2.write(fp1.read())\n",
    "print(\"Content copied successfully !!\")\n",
    "\n",
    "fp1.close()\n",
    "fp2.close()"
   ]
  },
  {
   "cell_type": "markdown",
   "metadata": {},
   "source": [
    "### 07) WAP to find the size of the text file. "
   ]
  },
  {
   "cell_type": "code",
   "execution_count": 69,
   "metadata": {},
   "outputs": [
    {
     "name": "stdout",
     "output_type": "stream",
     "text": [
      "File Size is : 89 bytes\n",
      "File Size is : 89 bytes\n"
     ]
    }
   ],
   "source": [
    "import os\n",
    "\n",
    "#method 1\n",
    "fp = open(\"new1.txt\",\"r\")\n",
    "fp.read()\n",
    "#will reach end of the file \n",
    "fp.seek(0,2)\n",
    "#give length of all chars\n",
    "print(\"File Size is :\", fp.tell(), \"bytes\")\n",
    "fp.close()\n",
    "\n",
    "#method 2\n",
    "file_size = os.path.getsize('new1.txt')\n",
    "print(\"File Size is :\", file_size, \"bytes\")"
   ]
  },
  {
   "cell_type": "markdown",
   "metadata": {},
   "source": [
    "### 08) WAP to create an UDF named frequency to count occurances of the specific word in a given text file."
   ]
  },
  {
   "cell_type": "code",
   "execution_count": 82,
   "metadata": {},
   "outputs": [
    {
     "name": "stdout",
     "output_type": "stream",
     "text": [
      "Frequency of 'asdf' = 7\n"
     ]
    }
   ],
   "source": [
    "def frequency(filename,word):\n",
    "    fp = open(filename,\"r\")\n",
    "    words = fp.read().split()\n",
    "    cnt = words.count(word)\n",
    "    print(f\"Frequency of '{word}' = {cnt}\")\n",
    "\n",
    "frequency(\"text1.txt\",\"asdf\")"
   ]
  },
  {
   "cell_type": "markdown",
   "metadata": {},
   "source": [
    "### 09) WAP to get the score of five subjects from the user, store them in a file. Fetch those marks and find the highest score."
   ]
  },
  {
   "cell_type": "code",
   "execution_count": 1,
   "metadata": {},
   "outputs": [
    {
     "name": "stdout",
     "output_type": "stream",
     "text": [
      "Data stored\n",
      "The highest score is 99 in Flutter.\n"
     ]
    }
   ],
   "source": [
    "m1 = {'Flutter':99, 'Python':98, 'Math':97,'SE':96,'DBMS':95}\n",
    "\n",
    "fp = open(\"Marks.txt\",\"w\")\n",
    "for subject, marks in m1.items():\n",
    "        fp.write(f\"{subject} {marks}\\n\")\n",
    "print(\"Data stored\")\n",
    "\n",
    "fp.close()\n",
    "\n",
    "fp = open(\"Marks.txt\",\"r\")\n",
    "li = fp.readlines()\n",
    "# for i in li:\n",
    "\n",
    "highest_score = 0\n",
    "highest_subject = \"\"\n",
    "for i in li:\n",
    "    subject, score = i.strip().split()\n",
    "    score = int(score)\n",
    "    if score > highest_score:\n",
    "        highest_score = score\n",
    "        highest_subject = subject\n",
    "\n",
    "print(f\"The highest score is {highest_score} in {highest_subject}.\")"
   ]
  },
  {
   "cell_type": "markdown",
   "metadata": {},
   "source": [
    "### 10) WAP to write first 100 prime numbers to a file named primenumbers.txt \n",
    "(Note: each number should be in new line)"
   ]
  },
  {
   "cell_type": "code",
   "execution_count": 3,
   "metadata": {},
   "outputs": [],
   "source": [
    "def is_prime(n) :\n",
    "    if n < 2 :\n",
    "        return False \n",
    "    for i in range(2, int(n ** 0.5) + 1) :  \n",
    "        if n % i == 0 :\n",
    "            return False \n",
    "    return True \n",
    "\n",
    "# why count?\n",
    "# we don't know until when we will get in-total 100 primes, hence mentioned the count, while loop will go on until we get 100 primes\n",
    "\n",
    "def write_primes_to_file(filename, count) :\n",
    "    primes = []\n",
    "    n = 2 \n",
    "\n",
    "    while len(primes) < count :\n",
    "        if is_prime(n) :\n",
    "            primes.append(n)\n",
    "        n += 1\n",
    "\n",
    "    fp = open(filename,\"w\")\n",
    "    for i in primes :\n",
    "        fp.write(str(i) +\"\\n\") \n",
    "\n",
    "write_primes_to_file(\"primenumbers.txt\", 100)"
   ]
  },
  {
   "cell_type": "markdown",
   "metadata": {},
   "source": [
    "### 11) WAP to merge two files and write it in a new file."
   ]
  },
  {
   "cell_type": "code",
   "execution_count": 7,
   "metadata": {},
   "outputs": [],
   "source": [
    "def mergeFiles(f1,f2,f3):\n",
    "    data1= open(f1).read()\n",
    "    data2= open(f2).read()\n",
    "\n",
    "    fp = open(f3, \"w\")\n",
    "    fp.write(data1 + \"\\n\" + data2)\n",
    "\n",
    "mergeFiles(\"file1.txt\",\"new1.txt\",\"mergedFiles.txt\")"
   ]
  },
  {
   "cell_type": "markdown",
   "metadata": {},
   "source": [
    "### 12) WAP to replace word1 by word2 of a text file. Write the updated data to new file."
   ]
  },
  {
   "cell_type": "code",
   "execution_count": 9,
   "metadata": {},
   "outputs": [],
   "source": [
    "def replace_word(f1, old_word, new_word, f2) :\n",
    "    fp = open(f1, \"r\")\n",
    "    data = fp.read() \n",
    "\n",
    "    updated_data = data.replace(old_word, new_word) \n",
    "\n",
    "    fp1 = open(f2, \"w\")\n",
    "    fp1.write(updated_data) \n",
    "\n",
    "replace_word(\"new1.txt\", \"asdf\", \"Kunj\", \"updated_data.txt\")"
   ]
  },
  {
   "cell_type": "markdown",
   "metadata": {},
   "source": [
    "### 13) Demonstrate tell() and seek() for all the cases(seek from beginning-end-current position) taking a suitable example of your choice."
   ]
  },
  {
   "cell_type": "code",
   "execution_count": 11,
   "metadata": {},
   "outputs": [
    {
     "name": "stdout",
     "output_type": "stream",
     "text": [
      "Current position after writing: 66\n",
      "Position after seek(6): 6\n",
      "Content from position 6:  this is a sample text file demonstrating tell() and seek().\n",
      "Position after seek(3, 1): 3\n",
      "Position after seek(-10, 2): 10\n",
      "Content from the new position: s is a sample text file demonstrating tell() and seek().\n"
     ]
    }
   ],
   "source": [
    "fp = open(\"example.txt\", \"w+\")\n",
    "fp.write(\"Hello, this is a sample text file demonstrating tell() and seek().\")\n",
    "\n",
    "print(\"Current position after writing:\", fp.tell()) \n",
    "\n",
    "fp.seek(6) \n",
    "print(\"Position after seek(6):\", fp.tell())\n",
    "\n",
    "print(\"Content from position 6:\", fp.read())\n",
    "\n",
    "fp.seek(0)  \n",
    "fp.seek(6)  \n",
    "fp.seek(3) \n",
    "print(\"Position after seek(3, 1):\", fp.tell())\n",
    "\n",
    "fp.seek(10)  \n",
    "print(\"Position after seek(-10, 2):\", fp.tell())\n",
    "\n",
    "print(\"Content from the new position:\", fp.read())\n",
    "\n",
    "fp.close()"
   ]
  }
 ],
 "metadata": {
  "kernelspec": {
   "display_name": "Python 3 (ipykernel)",
   "language": "python",
   "name": "python3"
  },
  "language_info": {
   "codemirror_mode": {
    "name": "ipython",
    "version": 3
   },
   "file_extension": ".py",
   "mimetype": "text/x-python",
   "name": "python",
   "nbconvert_exporter": "python",
   "pygments_lexer": "ipython3",
   "version": "3.12.7"
  }
 },
 "nbformat": 4,
 "nbformat_minor": 4
}
