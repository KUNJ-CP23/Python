{
 "cells": [
  {
   "cell_type": "markdown",
   "metadata": {},
   "source": [
    "\n",
    "<a href='https://www.darshan.ac.in/'> <img src='https://www.darshan.ac.in/Content/media/DU_Logo.svg' width=\"250\" height=\"300\"/></a>\n",
    "<pre>\n",
    "<center><b><h1>Python Programming - 2301CS404</b></center>\n",
    "<center><b><h1>Lab - 5</b></center>\n",
    "<center><b><h2>Kunj Ramoliya  23010101222</b></center>\n",
    "<pre>"
   ]
  },
  {
   "cell_type": "markdown",
   "metadata": {},
   "source": [
    "# List"
   ]
  },
  {
   "cell_type": "markdown",
   "metadata": {},
   "source": [
    "### 01) WAP to find sum of all the elements in a List."
   ]
  },
  {
   "cell_type": "code",
   "execution_count": 4,
   "metadata": {},
   "outputs": [
    {
     "name": "stdout",
     "output_type": "stream",
     "text": [
      "Sum :  35\n"
     ]
    }
   ],
   "source": [
    "l = [9,8,7,6,5]\n",
    "sum = 0 \n",
    "\n",
    "for i in l :\n",
    "    sum += i\n",
    "\n",
    "print(\"Sum : \", sum)"
   ]
  },
  {
   "cell_type": "markdown",
   "metadata": {},
   "source": [
    "### 02) WAP to find largest element in a List."
   ]
  },
  {
   "cell_type": "code",
   "execution_count": 12,
   "metadata": {},
   "outputs": [
    {
     "name": "stdout",
     "output_type": "stream",
     "text": [
      "Largest : 10\n"
     ]
    }
   ],
   "source": [
    "l1 = [9,8,10,6,5]\n",
    "max = l1[0]\n",
    "\n",
    "for i in l1 :\n",
    "    if i>max:\n",
    "        max = i\n",
    "print(f\"Largest : {max}\")"
   ]
  },
  {
   "cell_type": "markdown",
   "metadata": {},
   "source": [
    "### 03) WAP to find the length of a List."
   ]
  },
  {
   "cell_type": "code",
   "execution_count": 16,
   "metadata": {},
   "outputs": [
    {
     "name": "stdout",
     "output_type": "stream",
     "text": [
      "Length : 7\n"
     ]
    }
   ],
   "source": [
    "l = [9,8,7,6,5,8,0]\n",
    "count = 0 \n",
    "\n",
    "for i in l :\n",
    "    count += 1\n",
    "\n",
    "print(f\"Length : {count}\")"
   ]
  },
  {
   "cell_type": "markdown",
   "metadata": {},
   "source": [
    "### 04) WAP to interchange first and last elements in a list."
   ]
  },
  {
   "cell_type": "code",
   "execution_count": 24,
   "metadata": {},
   "outputs": [
    {
     "name": "stdout",
     "output_type": "stream",
     "text": [
      "[0, 8, 7, 6, 5, 8, 9]\n"
     ]
    }
   ],
   "source": [
    "l = [9,8,7,6,5,8,0]\n",
    "\n",
    "temp = l[0]\n",
    "l[0] = l[len(l)-1]\n",
    "l[len(l)-1] = temp\n",
    "\n",
    "print(l)"
   ]
  },
  {
   "cell_type": "markdown",
   "metadata": {},
   "source": [
    "### 05) WAP to split the List into two parts and append the first part to the end."
   ]
  },
  {
   "cell_type": "code",
   "execution_count": 38,
   "metadata": {},
   "outputs": [
    {
     "name": "stdout",
     "output_type": "stream",
     "text": [
      "Original list :  [0, 1, 2, 3, 4, 5, 6, 7, 8, 9]\n",
      "Modified list :  [5, 6, 7, 8, 9, 0, 1, 2, 3, 4]\n"
     ]
    }
   ],
   "source": [
    "l = [0,1,2,3,4,5,6,7,8,9]\n",
    "length = int(len(l)/2)\n",
    "fpart = l[:length]\n",
    "spart = l[length:]\n",
    "\n",
    "new_l = spart + fpart\n",
    "\n",
    "print(\"Original list : \", l)\n",
    "print(\"Modified list : \", new_l)"
   ]
  },
  {
   "cell_type": "markdown",
   "metadata": {},
   "source": [
    "### 06) WAP to interchange the elements on two positions entered by a user."
   ]
  },
  {
   "cell_type": "code",
   "execution_count": 1,
   "metadata": {},
   "outputs": [
    {
     "name": "stdin",
     "output_type": "stream",
     "text": [
      "Enter index 1:  4\n",
      "Enter index 2:  6\n"
     ]
    },
    {
     "name": "stdout",
     "output_type": "stream",
     "text": [
      "Updated List: [9, 8, 7, 6, 0, 8, 5]\n"
     ]
    }
   ],
   "source": [
    "l = [9, 8, 7, 6, 5, 8, 0]\n",
    "\n",
    "i1 = int(input(\"Enter index 1: \"))\n",
    "i2 = int(input(\"Enter index 2: \"))\n",
    "\n",
    "if i1 >= len(l) or i2 >= len(l) or i1 < 0 or i2 < 0:\n",
    "    print(\"Enter valid index!\")\n",
    "    exit()  # Terminate the program\n",
    "else:\n",
    "    l[i1], l[i2] = l[i2], l[i1]\n",
    "    print(\"Updated List:\", l)\n"
   ]
  },
  {
   "cell_type": "markdown",
   "metadata": {},
   "source": [
    "### 07) WAP to reverse the list entered by user."
   ]
  },
  {
   "cell_type": "code",
   "execution_count": 3,
   "metadata": {},
   "outputs": [
    {
     "name": "stdin",
     "output_type": "stream",
     "text": [
      "Enter the length of list :  5\n"
     ]
    },
    {
     "name": "stdout",
     "output_type": "stream",
     "text": [
      "Enter elements into list : \n"
     ]
    },
    {
     "name": "stdin",
     "output_type": "stream",
     "text": [
      " 2\n",
      " 6\n",
      " 4\n",
      " 7\n",
      " 3\n"
     ]
    },
    {
     "name": "stdout",
     "output_type": "stream",
     "text": [
      "[3, 7, 4, 6, 2]\n"
     ]
    }
   ],
   "source": [
    "l = []\n",
    "n = int(input(\"Enter the length of list : \"))\n",
    "\n",
    "print(\"Enter elements into list : \")\n",
    "for i in range(1,n+1) :\n",
    "    l.append(int(input()))\n",
    "\n",
    "l = l[::-1]\n",
    "\n",
    "print(l)"
   ]
  },
  {
   "cell_type": "markdown",
   "metadata": {},
   "source": [
    "### 08) WAP to print even numbers in a list."
   ]
  },
  {
   "cell_type": "code",
   "execution_count": 5,
   "metadata": {},
   "outputs": [
    {
     "name": "stdout",
     "output_type": "stream",
     "text": [
      "32\n",
      "2\n",
      "90\n",
      "6\n",
      "8\n"
     ]
    }
   ],
   "source": [
    "l = [32,3,2,11,99,90,5,6,7,8,9]\n",
    "\n",
    "for i in l :\n",
    "    if(i%2==0) :\n",
    "        print(i)"
   ]
  },
  {
   "cell_type": "markdown",
   "metadata": {},
   "source": [
    "### 09) WAP to count unique items in a list."
   ]
  },
  {
   "cell_type": "code",
   "execution_count": 7,
   "metadata": {},
   "outputs": [
    {
     "name": "stdout",
     "output_type": "stream",
     "text": [
      "9\n",
      "0\n",
      "4\n",
      "2\n",
      "1\n"
     ]
    }
   ],
   "source": [
    "l = [9,8,7,6,5,8,0,3,4,3,2,1,5,6,7,8]\n",
    "\n",
    "for i in l :\n",
    "    if(l.count(i) == 1) :\n",
    "        print(i)"
   ]
  },
  {
   "cell_type": "markdown",
   "metadata": {},
   "source": [
    "### 10) WAP to copy a list."
   ]
  },
  {
   "cell_type": "code",
   "execution_count": 11,
   "metadata": {},
   "outputs": [
    {
     "name": "stdout",
     "output_type": "stream",
     "text": [
      "[9, 8, 7, 6, 5, 8, 0, 3, 4, 3, 2, 1, 5, 6, 7, 8]\n"
     ]
    }
   ],
   "source": [
    "l = [9,8,7,6,5,8,0,3,4,3,2,1,5,6,7,8]\n",
    "cp = l.copy()\n",
    "print(cp)"
   ]
  },
  {
   "cell_type": "markdown",
   "metadata": {},
   "source": [
    "### 11) WAP to print all odd numbers in a given range."
   ]
  },
  {
   "cell_type": "code",
   "execution_count": 13,
   "metadata": {},
   "outputs": [
    {
     "name": "stdin",
     "output_type": "stream",
     "text": [
      "Enter n :  7\n"
     ]
    },
    {
     "name": "stdout",
     "output_type": "stream",
     "text": [
      "1\n",
      "3\n",
      "5\n",
      "7\n"
     ]
    }
   ],
   "source": [
    "n = int(input(\"Enter n : \"))\n",
    "\n",
    "for i in range(1,n+1) :\n",
    "    if (i%2!=0) :\n",
    "        print(i)"
   ]
  },
  {
   "cell_type": "markdown",
   "metadata": {},
   "source": [
    "### 12) WAP to count occurrences of an element in a list."
   ]
  },
  {
   "cell_type": "code",
   "execution_count": 55,
   "metadata": {},
   "outputs": [
    {
     "name": "stdout",
     "output_type": "stream",
     "text": [
      "Count of 8 : 3\n"
     ]
    },
    {
     "name": "stdin",
     "output_type": "stream",
     "text": [
      "Enter element to count:  6\n"
     ]
    },
    {
     "name": "stdout",
     "output_type": "stream",
     "text": [
      "Count of 6 : 2\n"
     ]
    }
   ],
   "source": [
    "l = [9, 8, 7, 6, 5, 8, 0, 3, 4, 3, 2, 1, 5, 6, 7, 8]\n",
    "\n",
    "#direct count\n",
    "print(\"Count of 8 :\", l.count(8))\n",
    "\n",
    "#or user input\n",
    "n = int(input(\"Enter element to count: \"))\n",
    "\n",
    "count = l.count(n)\n",
    "\n",
    "print(\"Count of\", n, \":\", count)"
   ]
  },
  {
   "cell_type": "markdown",
   "metadata": {},
   "source": [
    "### 13) WAP to find second largest number in a list."
   ]
  },
  {
   "cell_type": "code",
   "execution_count": 26,
   "metadata": {},
   "outputs": [
    {
     "name": "stdout",
     "output_type": "stream",
     "text": [
      "8\n"
     ]
    }
   ],
   "source": [
    "l = [9,8,7,6,5,8,0]\n",
    "l.sort()\n",
    "\n",
    "print(l[-2])"
   ]
  },
  {
   "cell_type": "markdown",
   "metadata": {},
   "source": [
    "### 14) WAP to extract elements with frequency greater than K."
   ]
  },
  {
   "cell_type": "code",
   "execution_count": 61,
   "metadata": {},
   "outputs": [
    {
     "name": "stdin",
     "output_type": "stream",
     "text": [
      "Enter frequency :  3\n"
     ]
    },
    {
     "name": "stdout",
     "output_type": "stream",
     "text": [
      "[4]\n"
     ]
    }
   ],
   "source": [
    "k = int(input(\"Enter frequency : \"))\n",
    "l = [1,2,4,5,4,5,4,5,3,4,1,2,3,1,2]\n",
    "l_ans = []\n",
    "\n",
    "for i in l :\n",
    "    if (l.count(i)>k) and (i not in l_ans) :\n",
    "        l_ans.append(i)\n",
    "\n",
    "print(l_ans)"
   ]
  },
  {
   "cell_type": "markdown",
   "metadata": {},
   "source": [
    "### 15) WAP to create a list of squared numbers from 0 to 9 with and without using List Comprehension."
   ]
  },
  {
   "cell_type": "code",
   "execution_count": 43,
   "metadata": {},
   "outputs": [
    {
     "name": "stdout",
     "output_type": "stream",
     "text": [
      "With comprehension : [0, 1, 4, 9, 16, 25, 36, 49, 64, 81]\n",
      "Without comprehension : [0, 1, 4, 9, 16, 25, 36, 49, 64, 81]\n"
     ]
    }
   ],
   "source": [
    "# with comprehension\n",
    "l = [i**2 for i in range(0,10)]\n",
    "print(f\"With comprehension : {l}\")\n",
    "\n",
    "# without comprehension\n",
    "l = []\n",
    "\n",
    "for i in range(0,10) :\n",
    "    l.append(i**2)\n",
    "print(f\"Without comprehension : {l}\")"
   ]
  },
  {
   "cell_type": "markdown",
   "metadata": {},
   "source": [
    "### 16) WAP to create a new list (fruit whose name starts with 'b') from the list of fruits given by user."
   ]
  },
  {
   "cell_type": "code",
   "execution_count": 47,
   "metadata": {},
   "outputs": [
    {
     "name": "stdout",
     "output_type": "stream",
     "text": [
      "['banana', 'blueberry']\n"
     ]
    }
   ],
   "source": [
    "l = ['banana','grapes','blueberry']\n",
    "\n",
    "l2 = []\n",
    "for i in l :\n",
    "    if (i.startswith('b')) :\n",
    "        l2.append(i)\n",
    "\n",
    "print(l2)"
   ]
  },
  {
   "cell_type": "markdown",
   "metadata": {},
   "source": [
    "### 17) WAP to create a list of common elements from given two lists."
   ]
  },
  {
   "cell_type": "code",
   "execution_count": 49,
   "metadata": {},
   "outputs": [
    {
     "name": "stdout",
     "output_type": "stream",
     "text": [
      "[7, 6, 5]\n"
     ]
    }
   ],
   "source": [
    "l1 = [9,8,7,6,5,8,0]\n",
    "l2 = [1,2,3,4,5,6,7]\n",
    "\n",
    "l_ans = [i for i in l1 if i in l2]\n",
    "\n",
    "print(l_ans)"
   ]
  }
 ],
 "metadata": {
  "kernelspec": {
   "display_name": "Python 3 (ipykernel)",
   "language": "python",
   "name": "python3"
  },
  "language_info": {
   "codemirror_mode": {
    "name": "ipython",
    "version": 3
   },
   "file_extension": ".py",
   "mimetype": "text/x-python",
   "name": "python",
   "nbconvert_exporter": "python",
   "pygments_lexer": "ipython3",
   "version": "3.12.7"
  }
 },
 "nbformat": 4,
 "nbformat_minor": 4
}
