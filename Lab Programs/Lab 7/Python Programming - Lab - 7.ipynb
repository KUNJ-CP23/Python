{
 "cells": [
  {
   "cell_type": "markdown",
   "metadata": {},
   "source": [
    "<a href='https://www.darshan.ac.in/'> <img src='https://www.darshan.ac.in/Content/media/DU_Logo.svg' width=\"250\" height=\"300\"/></a>\n",
    "<pre>\n",
    "<center><b><h1>Python Programming - 2301CS404</b></center>\n",
    "<center><b><h1>Lab - 7</b></center>  \n",
    "<center><b><h2>Kunj Ramoliya | 2301010222</b></center>\n",
    "<pre>"
   ]
  },
  {
   "cell_type": "markdown",
   "metadata": {},
   "source": [
    "# Set & Dictionary"
   ]
  },
  {
   "cell_type": "markdown",
   "metadata": {},
   "source": [
    "### 01) WAP to iterate over a set."
   ]
  },
  {
   "cell_type": "code",
   "execution_count": 8,
   "metadata": {},
   "outputs": [
    {
     "name": "stdout",
     "output_type": "stream",
     "text": [
      "1 2 3 4 5 "
     ]
    }
   ],
   "source": [
    "s = {1, 2, 3, 4, 5}\n",
    "for i in s :\n",
    "    print(i, end=\" \")"
   ]
  },
  {
   "cell_type": "code",
   "execution_count": 26,
   "metadata": {},
   "outputs": [
    {
     "name": "stdout",
     "output_type": "stream",
     "text": [
      "1 2 3 4 5 "
     ]
    }
   ],
   "source": [
    "#using function\n",
    "def iterate_set(s) :\n",
    "    for i in s :\n",
    "        print(i, end=\" \")\n",
    "\n",
    "iterate_set(s)"
   ]
  },
  {
   "cell_type": "markdown",
   "metadata": {},
   "source": [
    "### 02) WAP to convert set into list, string and tuple."
   ]
  },
  {
   "cell_type": "code",
   "execution_count": 24,
   "metadata": {},
   "outputs": [
    {
     "name": "stdout",
     "output_type": "stream",
     "text": [
      "List : ['e', 'c', 'b', 'a', 'd']\n",
      "String : ecbad\n",
      "Tuple : ('e', 'c', 'b', 'a', 'd')\n"
     ]
    }
   ],
   "source": [
    "s1 = {'a', 'b', 'c', 'd', 'e'}\n",
    "\n",
    "print(\"List :\",list(s1))\n",
    "#map must have atleast two args\n",
    "print(\"String :\", ''.join(map(str,s1)))\n",
    "print(\"Tuple :\",tuple(s1))"
   ]
  },
  {
   "cell_type": "code",
   "execution_count": 30,
   "metadata": {},
   "outputs": [
    {
     "name": "stdout",
     "output_type": "stream",
     "text": [
      "List : ['e', 'c', 'b', 'a', 'd']\n",
      "String : ecbad\n",
      "Tuple : ('e', 'c', 'b', 'a', 'd')\n"
     ]
    }
   ],
   "source": [
    "#using function\n",
    "def convert_set(s) :\n",
    "    print(\"List :\",list(s1))\n",
    "    print(\"String :\",''.join(map(str,s1)))\n",
    "    print(\"Tuple :\",tuple(s1))\n",
    "\n",
    "convert_set(s1)"
   ]
  },
  {
   "cell_type": "markdown",
   "metadata": {},
   "source": [
    "### 03) WAP to find Maximum and Minimum from a set."
   ]
  },
  {
   "cell_type": "code",
   "execution_count": 32,
   "metadata": {},
   "outputs": [
    {
     "name": "stdout",
     "output_type": "stream",
     "text": [
      "Max : 9\n",
      "Min : 1\n"
     ]
    }
   ],
   "source": [
    "s = {1,3,7,8,4,9}\n",
    "\n",
    "print(\"Max :\",max(s))\n",
    "print(\"Min :\",min(s))"
   ]
  },
  {
   "cell_type": "code",
   "execution_count": 62,
   "metadata": {},
   "outputs": [
    {
     "name": "stdout",
     "output_type": "stream",
     "text": [
      "Max: 9\n",
      "Min: 1\n"
     ]
    }
   ],
   "source": [
    "def maxMin(s) :\n",
    "    maximum = max(s)\n",
    "    minimum = min(s)\n",
    "    return f\"Max: {maximum}\\nMin: {minimum}\"\n",
    "\n",
    "#if maxMin(s) is called as it then \\n will not work, hence printed\n",
    "print(maxMin(s))"
   ]
  },
  {
   "cell_type": "markdown",
   "metadata": {},
   "source": [
    "### 04) WAP to perform union of two sets."
   ]
  },
  {
   "cell_type": "code",
   "execution_count": 64,
   "metadata": {},
   "outputs": [
    {
     "name": "stdout",
     "output_type": "stream",
     "text": [
      "Union : {1, 2, 3, 4, 5, 6, 7, 9}\n"
     ]
    }
   ],
   "source": [
    "s1 = {1, 2, 3, 4, 5}\n",
    "s2 = {4, 9, 6, 7, 5}\n",
    "\n",
    "print(\"Union :\",s1 | s2)"
   ]
  },
  {
   "cell_type": "code",
   "execution_count": 70,
   "metadata": {},
   "outputs": [
    {
     "data": {
      "text/plain": [
       "{1, 2, 3, 4, 5, 6, 7, 9}"
      ]
     },
     "execution_count": 70,
     "metadata": {},
     "output_type": "execute_result"
    }
   ],
   "source": [
    "def unionOfSets(s1,s2) :\n",
    "    return s1 | s2\n",
    "\n",
    "unionOfSets(s1,s2)"
   ]
  },
  {
   "cell_type": "markdown",
   "metadata": {},
   "source": [
    "### 05) WAP to check if two lists have at-least one element common."
   ]
  },
  {
   "cell_type": "code",
   "execution_count": 1,
   "metadata": {},
   "outputs": [
    {
     "name": "stdout",
     "output_type": "stream",
     "text": [
      "[1, 2, 3, 4, 5]\n",
      "[4, 5, 6, 7, 8]\n",
      "Atleast one common element\n"
     ]
    }
   ],
   "source": [
    "l1 = [1, 2, 3, 4, 5]\n",
    "l2 = [4, 5, 6, 7, 8]\n",
    "isCommon = False\n",
    "print(l1)\n",
    "print(l2)\n",
    "\n",
    "for i in l1 :\n",
    "    if i in l2 :\n",
    "        isCommon = True\n",
    "    else :\n",
    "        isCommon = False\n",
    "\n",
    "if(isCommon) :\n",
    "    print(\"Atleast one common element\")\n",
    "else :\n",
    "    print(\"No common element\")"
   ]
  },
  {
   "cell_type": "code",
   "execution_count": 3,
   "metadata": {},
   "outputs": [
    {
     "name": "stdout",
     "output_type": "stream",
     "text": [
      "True\n"
     ]
    }
   ],
   "source": [
    "l1 = [1, 2, 3, 4, 5]\n",
    "l2 = [4, 5, 6, 7, 8]\n",
    "\n",
    "def check_common_elements(l1, l2 ):\n",
    "    for i in l1:\n",
    "        if i in l2:\n",
    "            return True\n",
    "    return False\n",
    "\n",
    "print(check_common_elements(l1, l2)) "
   ]
  },
  {
   "cell_type": "markdown",
   "metadata": {},
   "source": [
    "### 06) WAP to remove duplicates from list."
   ]
  },
  {
   "cell_type": "code",
   "execution_count": 5,
   "metadata": {},
   "outputs": [
    {
     "name": "stdout",
     "output_type": "stream",
     "text": [
      "[1, 2, 3, 4, 5]\n"
     ]
    }
   ],
   "source": [
    "l1 = [1, 2, 2, 3, 4, 4, 5]\n",
    "\n",
    "print(list(set(l1)))"
   ]
  },
  {
   "cell_type": "code",
   "execution_count": 7,
   "metadata": {},
   "outputs": [
    {
     "data": {
      "text/plain": [
       "[1, 2, 3, 4, 5]"
      ]
     },
     "execution_count": 7,
     "metadata": {},
     "output_type": "execute_result"
    }
   ],
   "source": [
    "l1 = [1, 2, 2, 3, 4, 4, 5]\n",
    "\n",
    "def remove_duplicates(li):\n",
    "    return list(set(li))\n",
    "\n",
    "remove_duplicates(l1)"
   ]
  },
  {
   "cell_type": "markdown",
   "metadata": {},
   "source": [
    "### 07) WAP to find unique words in the given string."
   ]
  },
  {
   "cell_type": "code",
   "execution_count": 12,
   "metadata": {},
   "outputs": [
    {
     "name": "stdout",
     "output_type": "stream",
     "text": [
      "{'world', 'universe', 'hello', 'kunj'}\n"
     ]
    }
   ],
   "source": [
    "s =\"hello world hello kunj hello universe\"\n",
    "\n",
    "print(set(s.split()))"
   ]
  },
  {
   "cell_type": "code",
   "execution_count": 14,
   "metadata": {},
   "outputs": [
    {
     "data": {
      "text/plain": [
       "{'hello', 'kunj', 'universe', 'world'}"
      ]
     },
     "execution_count": 14,
     "metadata": {},
     "output_type": "execute_result"
    }
   ],
   "source": [
    "s = \"hello world hello world hello kunj hello universe hello universe\"\n",
    "\n",
    "def unique_words(s):\n",
    "    words = s.split()\n",
    "    return set(words)\n",
    "\n",
    "unique_words(s)"
   ]
  },
  {
   "cell_type": "markdown",
   "metadata": {},
   "source": [
    "### 08) WAP to remove common elements of set A & B from set A."
   ]
  },
  {
   "cell_type": "code",
   "execution_count": 16,
   "metadata": {},
   "outputs": [
    {
     "name": "stdout",
     "output_type": "stream",
     "text": [
      "{1}\n"
     ]
    }
   ],
   "source": [
    "set1 = {1, 2, 3}\n",
    "set2 = {2, 3, 4}\n",
    "\n",
    "print(set1-set2)"
   ]
  },
  {
   "cell_type": "code",
   "execution_count": 18,
   "metadata": {},
   "outputs": [
    {
     "data": {
      "text/plain": [
       "{1}"
      ]
     },
     "execution_count": 18,
     "metadata": {},
     "output_type": "execute_result"
    }
   ],
   "source": [
    "def remove_common_elements(s1, s2):\n",
    "    return s1-s2\n",
    "\n",
    "remove_common_elements(set1, set2)"
   ]
  },
  {
   "cell_type": "markdown",
   "metadata": {},
   "source": [
    "### 09) WAP to check whether two given strings are anagram or not using set."
   ]
  },
  {
   "cell_type": "code",
   "execution_count": 5,
   "metadata": {},
   "outputs": [
    {
     "name": "stdin",
     "output_type": "stream",
     "text": [
      "Enter the first string:  heello\n",
      "Enter the second string:  lloeeh\n"
     ]
    },
    {
     "name": "stdout",
     "output_type": "stream",
     "text": [
      "Strings are anagram\n"
     ]
    }
   ],
   "source": [
    "string1 = input(\"Enter the first string: \")\n",
    "string2 = input(\"Enter the second string: \")\n",
    "\n",
    "if set(string1) == set(string2) :\n",
    "    if sorted(string1) == sorted(string2) :\n",
    "        print(\"Strings are anagram\")\n",
    "    else :\n",
    "        print(\"Strings are not anagram\")\n",
    "else :\n",
    "    print(\"Strings are not anagram !!\")"
   ]
  },
  {
   "cell_type": "code",
   "execution_count": 7,
   "metadata": {},
   "outputs": [
    {
     "name": "stdout",
     "output_type": "stream",
     "text": [
      "The strings are anagrams\n"
     ]
    }
   ],
   "source": [
    "def are_anagrams(string1, string2):\n",
    "    if set(string1) == set(string2) and len(string1) == len(string2):\n",
    "        return True\n",
    "    return False\n",
    "\n",
    "if are_anagrams(string1, string2):\n",
    "    print(\"The strings are anagrams\")\n",
    "else:\n",
    "    print(\"The strings are not anagrams\")\n"
   ]
  },
  {
   "cell_type": "markdown",
   "metadata": {},
   "source": [
    "### 10) WAP to find common elements in three lists using set."
   ]
  },
  {
   "cell_type": "code",
   "execution_count": 27,
   "metadata": {},
   "outputs": [
    {
     "name": "stdout",
     "output_type": "stream",
     "text": [
      "Common element (set representation): {3}\n",
      "Common element (list representation): [3]\n"
     ]
    }
   ],
   "source": [
    "li1 = [1, 2, 3]\n",
    "li2 = [2, 3, 4]\n",
    "li3 = [3, 4, 5]\n",
    "\n",
    "# & gives the common element in all the, which is supported in set\n",
    "print(\"Common element (set representation):\", set(li1) & set(li2) & set(li3))\n",
    "print(\"Common element (list representation):\", list(set(li1) & set(li2) & set(li3)))"
   ]
  },
  {
   "cell_type": "markdown",
   "metadata": {},
   "source": [
    "### 11) WAP to count number of vowels in given string using set."
   ]
  },
  {
   "cell_type": "code",
   "execution_count": 5,
   "metadata": {},
   "outputs": [
    {
     "name": "stdin",
     "output_type": "stream",
     "text": [
      "Enter string:  kunj is the prettiest mess\n"
     ]
    },
    {
     "name": "stdout",
     "output_type": "stream",
     "text": [
      "Count of vowels : 7\n"
     ]
    }
   ],
   "source": [
    "s = input(\"Enter string: \")\n",
    "vowels = set(\"aeiouAEIOU\")\n",
    "\n",
    "countVowels = len([i for i in s if i in vowels])\n",
    "\n",
    "print(\"Count of vowels :\", countVowels)"
   ]
  },
  {
   "cell_type": "code",
   "execution_count": 11,
   "metadata": {},
   "outputs": [
    {
     "name": "stdout",
     "output_type": "stream",
     "text": [
      "Count of vowels : 7\n"
     ]
    }
   ],
   "source": [
    "def countOfVowels(s):\n",
    "    return len([i for i in s if i in vowels])\n",
    "\n",
    "print(\"Count of vowels :\", countOfVowels(s))"
   ]
  },
  {
   "cell_type": "markdown",
   "metadata": {},
   "source": [
    "### 12) WAP to check if a given string is binary string or not."
   ]
  },
  {
   "cell_type": "code",
   "execution_count": 13,
   "metadata": {},
   "outputs": [
    {
     "name": "stdin",
     "output_type": "stream",
     "text": [
      "Enter Binary string:  10100101\n"
     ]
    },
    {
     "name": "stdout",
     "output_type": "stream",
     "text": [
      "10100101  is binary\n"
     ]
    }
   ],
   "source": [
    "s = input(\"Enter Binary string: \")\n",
    "binary = set('01')\n",
    "isbinary = False\n",
    "\n",
    "for i in s :\n",
    "    if i not in binary :\n",
    "        isBinary = False\n",
    "        break\n",
    "    else :\n",
    "        isBinary = True\n",
    "\n",
    "if isBinary :\n",
    "    print(s,\" is binary\")\n",
    "else :\n",
    "    print(s,\" is not binary\")"
   ]
  },
  {
   "cell_type": "code",
   "execution_count": 15,
   "metadata": {},
   "outputs": [
    {
     "data": {
      "text/plain": [
       "True"
      ]
     },
     "execution_count": 15,
     "metadata": {},
     "output_type": "execute_result"
    }
   ],
   "source": [
    "def isBinary_string(s):\n",
    "     # Convert the string into set and check if it contains only 0 and 1\n",
    "    return set(s).issubset({'0', '1'})\n",
    "\n",
    "isBinary_string(\"101010\")"
   ]
  },
  {
   "cell_type": "markdown",
   "metadata": {},
   "source": [
    "### 13) WAP to sort dictionary by key or value."
   ]
  },
  {
   "cell_type": "code",
   "execution_count": 17,
   "metadata": {},
   "outputs": [
    {
     "name": "stdout",
     "output_type": "stream",
     "text": [
      "{1: 'One', 2: 'Two', 3: 'Three'}\n"
     ]
    }
   ],
   "source": [
    "d1 = {3:'Three', 1:'One',  2:'Two'}\n",
    "#new dict to sort the orig\n",
    "d2 = {}\n",
    "#need to change it in list in order to sort\n",
    "l1 = []\n",
    "\n",
    "for i in d1.keys() :\n",
    "    l1.append(i)\n",
    "\n",
    "l1.sort()\n",
    "\n",
    "for i in l1 :\n",
    "    d2[i] = d1[i]\n",
    "\n",
    "print(d2)"
   ]
  },
  {
   "cell_type": "code",
   "execution_count": 19,
   "metadata": {},
   "outputs": [
    {
     "name": "stdout",
     "output_type": "stream",
     "text": [
      "{1: 'c', 2: 'a', 3: 'b'}\n"
     ]
    }
   ],
   "source": [
    "d = {3:'b', 1:'c', 2:'a'}\n",
    "\n",
    "sorted_by_key = dict(sorted(d.items(), key=lambda item: item[0]))\n",
    "print(sorted_by_key)"
   ]
  },
  {
   "cell_type": "code",
   "execution_count": 21,
   "metadata": {},
   "outputs": [
    {
     "name": "stdout",
     "output_type": "stream",
     "text": [
      "{2: 'a', 3: 'b', 1: 'c'}\n"
     ]
    }
   ],
   "source": [
    "d = {3:'b', 1:'c', 2:'a'}\n",
    "\n",
    "sorted_by_value = dict(sorted(d.items(), key=lambda item: item[1]))\n",
    "print(sorted_by_value)"
   ]
  },
  {
   "cell_type": "code",
   "execution_count": 23,
   "metadata": {},
   "outputs": [
    {
     "name": "stdout",
     "output_type": "stream",
     "text": [
      "Sorted by key : {1: 'c', 2: 'a', 3: 'b'}\n",
      "Sorted by value : {2: 'a', 3: 'b', 1: 'c'}\n"
     ]
    }
   ],
   "source": [
    "d = {3: 'b', 1: 'c', 2: 'a'}\n",
    "\n",
    "def sort_dict(d, by_key=True) :\n",
    "    key_index = 0 if by_key else 1\n",
    "    return dict(sorted(d.items(), key = lambda item : item[key_index]))\n",
    "\n",
    "print(\"Sorted by key :\", sort_dict(d))\n",
    "print(\"Sorted by value :\", sort_dict(d, by_key=False)) "
   ]
  },
  {
   "cell_type": "markdown",
   "metadata": {},
   "source": [
    "### 14) WAP to find the sum of all items (values) in a dictionary given by user. (Assume: values are numeric)"
   ]
  },
  {
   "cell_type": "code",
   "execution_count": 25,
   "metadata": {},
   "outputs": [
    {
     "name": "stdout",
     "output_type": "stream",
     "text": [
      "Sum : 60\n"
     ]
    }
   ],
   "source": [
    "dic = {'a': 10, 'b': 20, 'c': 30}\n",
    "\n",
    "print(\"Sum :\", sum(dic.values()) )"
   ]
  },
  {
   "cell_type": "code",
   "execution_count": 27,
   "metadata": {},
   "outputs": [
    {
     "data": {
      "text/plain": [
       "60"
      ]
     },
     "execution_count": 27,
     "metadata": {},
     "output_type": "execute_result"
    }
   ],
   "source": [
    "dic = {'a': 10, 'b': 20, 'c': 30}\n",
    "\n",
    "def sum_dict_values(d):\n",
    "    return sum(d.values())\n",
    "\n",
    "sum_dict_values(dic)"
   ]
  },
  {
   "cell_type": "markdown",
   "metadata": {},
   "source": [
    "### 15) WAP to handle missing keys in dictionaries.\n",
    "#### Example : Given, dict1 = {'a': 5, 'c': 8, 'e': 2} \n",
    "#### if you look for key = 'd', the message given should be 'Key Not Found', otherwise print the value of 'd' in dict1."
   ]
  },
  {
   "cell_type": "code",
   "execution_count": 29,
   "metadata": {},
   "outputs": [
    {
     "name": "stdout",
     "output_type": "stream",
     "text": [
      "Key Not Found\n"
     ]
    }
   ],
   "source": [
    "d1 = {'a': 5, 'c': 8, 'e': 2}\n",
    "\n",
    "result = d1.get('d', \"Key Not Found\")\n",
    "print(result)"
   ]
  },
  {
   "cell_type": "code",
   "execution_count": 31,
   "metadata": {},
   "outputs": [
    {
     "data": {
      "text/plain": [
       "'Key Not Found'"
      ]
     },
     "execution_count": 31,
     "metadata": {},
     "output_type": "execute_result"
    }
   ],
   "source": [
    "d1 = {'a': 5, 'c': 8, 'e': 2}\n",
    "\n",
    "def handle_missing_key(d, key):\n",
    "    return d.get(key, \"Key Not Found\")\n",
    "\n",
    "handle_missing_key(d1, 'd')"
   ]
  }
 ],
 "metadata": {
  "kernelspec": {
   "display_name": "Python 3 (ipykernel)",
   "language": "python",
   "name": "python3"
  },
  "language_info": {
   "codemirror_mode": {
    "name": "ipython",
    "version": 3
   },
   "file_extension": ".py",
   "mimetype": "text/x-python",
   "name": "python",
   "nbconvert_exporter": "python",
   "pygments_lexer": "ipython3",
   "version": "3.12.7"
  }
 },
 "nbformat": 4,
 "nbformat_minor": 4
}
