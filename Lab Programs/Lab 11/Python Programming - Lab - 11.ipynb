{
 "cells": [
  {
   "attachments": {},
   "cell_type": "markdown",
   "metadata": {},
   "source": [
    "<a href='https://www.darshan.ac.in/'> <img src='https://www.darshan.ac.in/Content/media/DU_Logo.svg' width=\"250\" height=\"300\"/></a>\n",
    "<pre>\n",
    "<center><b><h1>Python Programming - 2301CS404</b></center>\n",
    "<center><b><h1>Lab - 11</b></center>\n",
    "<center><b><h2>Kunj Ramoliya | 23010101222 | 19-02-2023</b></center>\n",
    "<pre>"
   ]
  },
  {
   "cell_type": "markdown",
   "metadata": {},
   "source": [
    "# Modules"
   ]
  },
  {
   "cell_type": "markdown",
   "metadata": {},
   "source": [
    "### 01) WAP to create Calculator module which defines functions like add, sub,mul and div. \n",
    "### Create another .py file that uses the functions available in Calculator module."
   ]
  },
  {
   "cell_type": "code",
   "execution_count": 60,
   "metadata": {},
   "outputs": [
    {
     "name": "stdin",
     "output_type": "stream",
     "text": [
      "Enter a : 8\n",
      "Enter b : 3\n"
     ]
    },
    {
     "name": "stdout",
     "output_type": "stream",
     "text": [
      "Addition : 11\n",
      "Subtraction : 5\n",
      "Multiplication : 24\n",
      "Division : 2.6666666666666665\n"
     ]
    }
   ],
   "source": [
    "import Calculator\n",
    "\n",
    "a = int(input(\"Enter a :\"))\n",
    "b = int(input(\"Enter b :\"))\n",
    "\n",
    "print(\"Addition :\", Calculator.add(a, b))\n",
    "print(\"Subtraction :\", Calculator.sub(a, b))\n",
    "print(\"Multiplication :\", Calculator.mul(a, b))\n",
    "print(\"Division :\", Calculator.div(a, b))"
   ]
  },
  {
   "cell_type": "markdown",
   "metadata": {},
   "source": [
    "### 02) WAP to pick a random character from a given String."
   ]
  },
  {
   "cell_type": "code",
   "execution_count": 4,
   "metadata": {},
   "outputs": [
    {
     "name": "stdin",
     "output_type": "stream",
     "text": [
      "Enter a string here:  KUNJ ramoliya\n"
     ]
    },
    {
     "name": "stdout",
     "output_type": "stream",
     "text": [
      "Random character: m\n"
     ]
    }
   ],
   "source": [
    "import random\n",
    "s = input(\"Enter a string here: \")\n",
    "print(f\"Random character: {random.choice(s)}\")"
   ]
  },
  {
   "cell_type": "code",
   "execution_count": 50,
   "metadata": {},
   "outputs": [
    {
     "name": "stdin",
     "output_type": "stream",
     "text": [
      "Enter the string : Kunj\n"
     ]
    },
    {
     "name": "stdout",
     "output_type": "stream",
     "text": [
      "Random Character: o\n"
     ]
    }
   ],
   "source": [
    "import random\n",
    "s1 = input(\"Enter the string :\")\n",
    "i = random.randrange(0, len(s))\n",
    "print(\"Random Character:\", s[i])"
   ]
  },
  {
   "cell_type": "markdown",
   "metadata": {},
   "source": [
    "### 03) WAP to pick a random element from a given list."
   ]
  },
  {
   "cell_type": "code",
   "execution_count": 10,
   "metadata": {},
   "outputs": [
    {
     "name": "stdout",
     "output_type": "stream",
     "text": [
      "23\n"
     ]
    }
   ],
   "source": [
    "import random\n",
    "li = [35,23,12,76,45,23,87,23]\n",
    "print(random.choice(li))"
   ]
  },
  {
   "cell_type": "code",
   "execution_count": 88,
   "metadata": {},
   "outputs": [
    {
     "name": "stdout",
     "output_type": "stream",
     "text": [
      "Random element : 23\n"
     ]
    }
   ],
   "source": [
    "import random\n",
    "li = [35,23,12,76,45,23,87,23]\n",
    "i = random.randrange(0, len(li))\n",
    "print(\"Random element :\", li[i])"
   ]
  },
  {
   "cell_type": "markdown",
   "metadata": {},
   "source": [
    "### 04) WAP to roll a dice in such a way that every time you get the same number."
   ]
  },
  {
   "cell_type": "code",
   "execution_count": 12,
   "metadata": {},
   "outputs": [
    {
     "name": "stdout",
     "output_type": "stream",
     "text": [
      "Rolled Dice : 2\n"
     ]
    }
   ],
   "source": [
    "import random\n",
    "\n",
    "random.seed(1) \n",
    "print(\"Rolled Dice :\", random.randint(1, 6))"
   ]
  },
  {
   "cell_type": "markdown",
   "metadata": {},
   "source": [
    "### 05) WAP to generate 3 random integers between 100 and 999 which is divisible by 5."
   ]
  },
  {
   "cell_type": "code",
   "execution_count": 16,
   "metadata": {},
   "outputs": [
    {
     "name": "stdout",
     "output_type": "stream",
     "text": [
      "Random Numbers Divisible by 5 : 250\n",
      "Random Numbers Divisible by 5 : 730\n",
      "Random Numbers Divisible by 5 : 675\n"
     ]
    }
   ],
   "source": [
    "import random\n",
    "\n",
    "print(\"Random Numbers Divisible by 5 :\",random.randrange(100,999,5))\n",
    "print(\"Random Numbers Divisible by 5 :\",random.randrange(100,999,5))\n",
    "print(\"Random Numbers Divisible by 5 :\",random.randrange(100,999,5))"
   ]
  },
  {
   "cell_type": "code",
   "execution_count": 18,
   "metadata": {},
   "outputs": [
    {
     "name": "stdout",
     "output_type": "stream",
     "text": [
      "Random Numbers Divisible by 5 : [700, 930, 585]\n"
     ]
    }
   ],
   "source": [
    "import random\n",
    "n = random.sample(range(100, 1000, 5), 3)\n",
    "print(\"Random Numbers Divisible by 5 :\", n)"
   ]
  },
  {
   "cell_type": "markdown",
   "metadata": {},
   "source": [
    "### 06) WAP to generate 100 random lottery tickets and pick two lucky tickets from it and announce them as Winner and Runner up respectively."
   ]
  },
  {
   "cell_type": "code",
   "execution_count": 60,
   "metadata": {},
   "outputs": [
    {
     "name": "stdout",
     "output_type": "stream",
     "text": [
      "Winner : 7\n",
      "Runner-up : 25\n"
     ]
    }
   ],
   "source": [
    "import random\n",
    "\n",
    "tickets = [random.randint(1,100) for i in range(100)]\n",
    "winners = random.sample(tickets, 2)\n",
    "\n",
    "print(\"Winner :\", winners[0])\n",
    "print(\"Runner-up :\", winners[1])"
   ]
  },
  {
   "cell_type": "code",
   "execution_count": 84,
   "metadata": {},
   "outputs": [
    {
     "name": "stdout",
     "output_type": "stream",
     "text": [
      "Winner : 27\n",
      "Runner-up : 69\n"
     ]
    }
   ],
   "source": [
    "import random\n",
    "\n",
    "tickets = random.choices(range(1, 100), k=100)\n",
    "winners, runner_up = random.sample(tickets, 2)\n",
    "\n",
    "print(\"Winner :\", winners)\n",
    "print(\"Runner-up :\", runner_up)"
   ]
  },
  {
   "cell_type": "markdown",
   "metadata": {},
   "source": [
    "### 07) WAP to print current date and time in Python."
   ]
  },
  {
   "cell_type": "code",
   "execution_count": 86,
   "metadata": {
    "scrolled": true
   },
   "outputs": [
    {
     "name": "stdout",
     "output_type": "stream",
     "text": [
      "Current Date and Time : 2025-03-06 19:38:45.565178\n"
     ]
    }
   ],
   "source": [
    "import datetime\n",
    "print(\"Current Date and Time :\", datetime.datetime.now())"
   ]
  },
  {
   "cell_type": "markdown",
   "metadata": {},
   "source": [
    "### 08) Subtract a week (7 days) from a given date in Python."
   ]
  },
  {
   "cell_type": "code",
   "execution_count": 81,
   "metadata": {},
   "outputs": [
    {
     "name": "stdout",
     "output_type": "stream",
     "text": [
      "Date after subtracting a week : 2025-02-12 10:46:25.726530\n"
     ]
    }
   ],
   "source": [
    "import datetime\n",
    "\n",
    "today = datetime.datetime.today()\n",
    "df = today - datetime.timedelta(days=7)\n",
    "print(\"Date after subtracting a week :\", df)"
   ]
  },
  {
   "cell_type": "code",
   "execution_count": 80,
   "metadata": {},
   "outputs": [
    {
     "name": "stdout",
     "output_type": "stream",
     "text": [
      "Date after subtracting a week : 2025-02-27 19:30:53.750874\n"
     ]
    }
   ],
   "source": [
    "import datetime\n",
    "\n",
    "today = datetime.datetime.today()\n",
    "df = today + datetime.timedelta(days=-7)\n",
    "print(\"Date after subtracting a week :\", df)"
   ]
  },
  {
   "cell_type": "markdown",
   "metadata": {},
   "source": [
    "### 09) WAP to Calculate number of days between two given dates."
   ]
  },
  {
   "cell_type": "code",
   "execution_count": 56,
   "metadata": {},
   "outputs": [
    {
     "name": "stdout",
     "output_type": "stream",
     "text": [
      "Number of Days Between the Dates : 40\n"
     ]
    }
   ],
   "source": [
    "from datetime import datetime\n",
    "import math\n",
    "\n",
    "d1 = datetime(2025, 1, 1)\n",
    "d2 = datetime(2025, 2, 10)\n",
    "\n",
    "df = abs((d2 - d1).days)\n",
    "print(\"Number of Days Between the Dates :\", df)"
   ]
  },
  {
   "cell_type": "markdown",
   "metadata": {},
   "source": [
    "### 10) WAP to Find the day of the week of a given date.(i.e. wether it is sunday/monday/tuesday/etc.)"
   ]
  },
  {
   "cell_type": "code",
   "execution_count": 66,
   "metadata": {},
   "outputs": [
    {
     "name": "stdout",
     "output_type": "stream",
     "text": [
      "Day of the Week : Thursday\n"
     ]
    }
   ],
   "source": [
    "import datetime\n",
    "d1 = datetime.datetime.today()\n",
    "print(\"Day of the Week :\",d1.strftime(\"%A\"))"
   ]
  },
  {
   "cell_type": "markdown",
   "metadata": {},
   "source": [
    "### 11) WAP to demonstrate the use of date time module."
   ]
  },
  {
   "cell_type": "code",
   "execution_count": 68,
   "metadata": {},
   "outputs": [
    {
     "name": "stdout",
     "output_type": "stream",
     "text": [
      "DATE : 06, March 2025 and TIME : 19 : 25 : 42\n"
     ]
    }
   ],
   "source": [
    "import datetime\n",
    "d1 = datetime.datetime.today()\n",
    "dayy = d1.strftime(\"DATE : %d, %B %Y and TIME : %H : %M : %S\")\n",
    "print(dayy)"
   ]
  },
  {
   "cell_type": "code",
   "execution_count": 78,
   "metadata": {},
   "outputs": [
    {
     "name": "stdout",
     "output_type": "stream",
     "text": [
      "Current Date and Time : 2025-03-06 19:28:51.176526\n",
      "Formatted Date and Time : 06-03-2025 19:28:51\n",
      "Date after 5 Days : 2025-03-11\n",
      "Time 3 Hours Ago : 16:28:51.176526\n"
     ]
    }
   ],
   "source": [
    "from datetime import datetime, timedelta\n",
    "\n",
    "now = datetime.now()\n",
    "print(\"Current Date and Time :\", now)\n",
    "\n",
    "formatted_date = now.strftime(\"%d-%m-%Y %H:%M:%S\")\n",
    "print(\"Formatted Date and Time :\", formatted_date)\n",
    "\n",
    "future_date = now + timedelta(days=5)\n",
    "print(\"Date after 5 Days :\", future_date.date())\n",
    "\n",
    "past_time = now - timedelta(hours=3)\n",
    "print(\"Time 3 Hours Ago :\", past_time.time())"
   ]
  },
  {
   "cell_type": "markdown",
   "metadata": {},
   "source": [
    "### 12) WAP to demonstrate the use of the math module."
   ]
  },
  {
   "cell_type": "code",
   "execution_count": 106,
   "metadata": {},
   "outputs": [
    {
     "name": "stdout",
     "output_type": "stream",
     "text": [
      "Ceil: 6\n",
      "Floor: 6\n",
      "Square Root of 25: 5.0\n",
      "2 raised to the power 3: 8.0\n",
      "Factorial of 5: 120\n",
      "Sin of 90 degrees: 1.0\n",
      "Cos of 0 degrees: 1.0\n",
      "Value of Pi: 3.141592653589793\n",
      "Value of Euler's number (e): 2.718281828459045\n"
     ]
    }
   ],
   "source": [
    "import math\n",
    "\n",
    "print(f\"Ceil: {math.ceil(5.2)}\")\n",
    "print(f\"Floor: {math.floor(6.8)}\")\n",
    "print(\"Square Root of 25:\", math.sqrt(25))\n",
    "print(\"2 raised to the power 3:\", math.pow(2, 3))\n",
    "print(\"Factorial of 5:\", math.factorial(5))\n",
    "print(\"Sin of 90 degrees:\", math.sin(math.radians(90)))\n",
    "print(\"Cos of 0 degrees:\", math.cos(math.radians(0)))\n",
    "print(\"Value of Pi:\", math.pi)\n",
    "print(\"Value of Euler's number (e):\", math.e)"
   ]
  }
 ],
 "metadata": {
  "kernelspec": {
   "display_name": "Python 3 (ipykernel)",
   "language": "python",
   "name": "python3"
  },
  "language_info": {
   "codemirror_mode": {
    "name": "ipython",
    "version": 3
   },
   "file_extension": ".py",
   "mimetype": "text/x-python",
   "name": "python",
   "nbconvert_exporter": "python",
   "pygments_lexer": "ipython3",
   "version": "3.12.7"
  }
 },
 "nbformat": 4,
 "nbformat_minor": 4
}
