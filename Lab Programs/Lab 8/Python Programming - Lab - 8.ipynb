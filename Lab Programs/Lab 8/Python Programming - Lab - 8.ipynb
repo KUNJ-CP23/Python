{
 "cells": [
  {
   "cell_type": "markdown",
   "metadata": {},
   "source": [
    "<a href='https://www.darshan.ac.in/'> <img src='https://www.darshan.ac.in/Content/media/DU_Logo.svg' width=\"250\" height=\"300\"/></a>\n",
    "<pre>\n",
    "<center><b><h1>Python Programming - 2301CS404</b></center>\n",
    "<center><b><h1>Lab - 8</b></center>\n",
    "<center><b><h2>Kunj Ramoliya | 2301010222 | 22-01-2025</b></center>\n",
    "<pre>"
   ]
  },
  {
   "cell_type": "markdown",
   "metadata": {},
   "source": [
    "# User Defined Function"
   ]
  },
  {
   "cell_type": "markdown",
   "metadata": {},
   "source": [
    "### 01) Write a function to calculate BMI given mass and height. (BMI = mass/h**2)"
   ]
  },
  {
   "cell_type": "code",
   "execution_count": 3,
   "metadata": {},
   "outputs": [
    {
     "name": "stdin",
     "output_type": "stream",
     "text": [
      "Enter mass:  54\n",
      "Enter height:  1.62\n"
     ]
    },
    {
     "name": "stdout",
     "output_type": "stream",
     "text": [
      "Mass : 54.0\n",
      "Height : 1.62\n",
      "BMI : 20.58\n"
     ]
    }
   ],
   "source": [
    "mass = float(input(\"Enter mass: \"))\n",
    "height = float(input(\"Enter height: \"))\n",
    "\n",
    "def calculateBMI(m,h):\n",
    "    return mass/(h**2)\n",
    "\n",
    "print(\"Mass :\", mass)\n",
    "print(\"Height :\",height)\n",
    "print(f\"BMI : {calculateBMI(mass,height):.2f}\")"
   ]
  },
  {
   "cell_type": "markdown",
   "metadata": {},
   "source": [
    "### 02) Write a function that add first n numbers."
   ]
  },
  {
   "cell_type": "code",
   "execution_count": 20,
   "metadata": {},
   "outputs": [
    {
     "name": "stdin",
     "output_type": "stream",
     "text": [
      "Enter :  7\n"
     ]
    },
    {
     "name": "stdout",
     "output_type": "stream",
     "text": [
      "Sum of first 7 numbers : 28.0\n"
     ]
    }
   ],
   "source": [
    "n = int(input(\"Enter : \"))\n",
    "\n",
    "def sumOfFirstN(n):\n",
    "    return (n*(n+1))/2\n",
    "\n",
    "print(f\"Sum of first {n} numbers : {sumOfFirstN(n)}\")"
   ]
  },
  {
   "cell_type": "markdown",
   "metadata": {},
   "source": [
    "### 03) Write a function that returns 1 if the given number is Prime or 0 otherwise."
   ]
  },
  {
   "cell_type": "code",
   "execution_count": 66,
   "metadata": {},
   "outputs": [
    {
     "name": "stdin",
     "output_type": "stream",
     "text": [
      "Enter :  23\n"
     ]
    },
    {
     "data": {
      "text/plain": [
       "1"
      ]
     },
     "execution_count": 66,
     "metadata": {},
     "output_type": "execute_result"
    }
   ],
   "source": [
    "n = int(input(\"Enter : \"))\n",
    "\n",
    "def primeORNot(n):\n",
    "    count = 0\n",
    "    for i in range(2,n+1):\n",
    "        if(n%i == 0):\n",
    "            count += 1\n",
    "\n",
    "    if count==1:\n",
    "        return 1\n",
    "    return 0\n",
    "\n",
    "primeORNot(n)"
   ]
  },
  {
   "cell_type": "markdown",
   "metadata": {},
   "source": [
    "### 04) Write a function that returns the list of Prime numbers between given two numbers."
   ]
  },
  {
   "cell_type": "code",
   "execution_count": 48,
   "metadata": {},
   "outputs": [
    {
     "name": "stdin",
     "output_type": "stream",
     "text": [
      "Enter starting number:  1\n",
      "Enter ending number:  10\n"
     ]
    },
    {
     "name": "stdout",
     "output_type": "stream",
     "text": [
      "Prime number between 1 and 10 : [2, 3, 5, 7]\n"
     ]
    }
   ],
   "source": [
    "l = int(input(\"Enter starting number: \"))\n",
    "r = int(input(\"Enter ending number: \"))\n",
    "\n",
    "def isPrimeOrNot(n):\n",
    "    if(n ==1):\n",
    "        return False\n",
    "    for i in range(2, n):\n",
    "        if n % i == 0:\n",
    "            return False\n",
    "    return True\n",
    "\n",
    "def listAllPrime(l,r):\n",
    "    li = []\n",
    "    for i in range(l,r+1):\n",
    "        if isPrimeOrNot(i):\n",
    "            li.append(i)\n",
    "\n",
    "    return li\n",
    "\n",
    "print(f\"Prime number between {l} and {r} : {listAllPrime(l,r)}\")"
   ]
  },
  {
   "cell_type": "markdown",
   "metadata": {},
   "source": [
    "### 05) Write a function that returns True if the given string is Palindrome or False otherwise."
   ]
  },
  {
   "cell_type": "code",
   "execution_count": 56,
   "metadata": {},
   "outputs": [
    {
     "name": "stdin",
     "output_type": "stream",
     "text": [
      "Enter string :  lol\n"
     ]
    },
    {
     "data": {
      "text/plain": [
       "True"
      ]
     },
     "execution_count": 56,
     "metadata": {},
     "output_type": "execute_result"
    }
   ],
   "source": [
    "s = input(\"Enter string : \")\n",
    "\n",
    "def checkPalindrome(s):\n",
    "    if s == s[::-1]:\n",
    "        return True\n",
    "    return False\n",
    "\n",
    "checkPalindrome(s)"
   ]
  },
  {
   "cell_type": "markdown",
   "metadata": {},
   "source": [
    "### 06) Write a function that returns the sum of all the elements of the list."
   ]
  },
  {
   "cell_type": "code",
   "execution_count": 75,
   "metadata": {},
   "outputs": [
    {
     "name": "stdout",
     "output_type": "stream",
     "text": [
      "Sum of elements in list : 30\n"
     ]
    }
   ],
   "source": [
    "li = [1,2,3,7,8,9]\n",
    "\n",
    "def sumOfList(li):\n",
    "    sum = 0\n",
    "    for i in li:\n",
    "        sum += i\n",
    "    return sum\n",
    "\n",
    "print(f\"Sum of elements in list : {sumOfList(li)}\")"
   ]
  },
  {
   "cell_type": "markdown",
   "metadata": {},
   "source": [
    "#### 07) Write a function to calculate the sum of the first element of each tuples inside the list."
   ]
  },
  {
   "cell_type": "code",
   "execution_count": 81,
   "metadata": {},
   "outputs": [
    {
     "name": "stdout",
     "output_type": "stream",
     "text": [
      "Sum of firsts in list of tuple: 21\n"
     ]
    }
   ],
   "source": [
    "li = [(1, 3, 9), (2,), (4, 3, 0, 2), (8, 2), (6, 4, 7, 8, 9)]\n",
    "\n",
    "# TL is Tuple's List\n",
    "def sumOfFirstsInTL(li):\n",
    "    sum = 0\n",
    "    for i in li:\n",
    "        sum += i[0] \n",
    "    return sum\n",
    "\n",
    "print(f\"Sum of firsts in list of tuple: {sumOfFirstsInTL(li)}\")\n"
   ]
  },
  {
   "cell_type": "markdown",
   "metadata": {},
   "source": [
    "### 08) Write a recursive function to find nth term of Fibonacci Series."
   ]
  },
  {
   "cell_type": "code",
   "execution_count": 5,
   "metadata": {},
   "outputs": [
    {
     "name": "stdout",
     "output_type": "stream",
     "text": [
      "34\n"
     ]
    }
   ],
   "source": [
    "def fibonacci(n):\n",
    "    if n <= 0 :\n",
    "        return \"Invalid input\"\n",
    "    elif n == 1 :\n",
    "        return 0\n",
    "    elif n == 2 :\n",
    "        return 1\n",
    "    else :\n",
    "        return fibonacci(n - 1) + fibonacci(n - 2)\n",
    "\n",
    "print(fibonacci(10))"
   ]
  },
  {
   "cell_type": "markdown",
   "metadata": {},
   "source": [
    "### 09) Write a function to get the name of the student based on the given rollno.\n",
    "#### Example: Given dict1 = {101:'Ajay', 102:'Rahul', 103:'Jay', 104:'Pooja'} find name of student whose rollno = 103"
   ]
  },
  {
   "cell_type": "code",
   "execution_count": 13,
   "metadata": {},
   "outputs": [
    {
     "name": "stdin",
     "output_type": "stream",
     "text": [
      "Find name of student whose roll no =  102\n"
     ]
    },
    {
     "name": "stdout",
     "output_type": "stream",
     "text": [
      "Student name: Rahul\n"
     ]
    }
   ],
   "source": [
    "dict1 = {101:'Ajay', 102:'Rahul', 103:'Jay', 104:'Pooja'}\n",
    "\n",
    "rn = int(input(\"Find name of student whose roll no = \"))\n",
    "\n",
    "#find name using rollno in dictionary\n",
    "def findNameInDict(d,rn):\n",
    "    return d.get(rn, \"Student not found\")\n",
    "\n",
    "print(f\"Student name: {findNameInDict(dict1, rn)}\")"
   ]
  },
  {
   "cell_type": "code",
   "execution_count": 15,
   "metadata": {},
   "outputs": [
    {
     "name": "stdin",
     "output_type": "stream",
     "text": [
      "Find name of student whose roll no =  115\n"
     ]
    },
    {
     "name": "stdout",
     "output_type": "stream",
     "text": [
      "Student name: Roll number not found\n"
     ]
    }
   ],
   "source": [
    "dict1 = {101:'Ajay', 102:'Rahul', 103:'Jay', 104:'Pooja'}\n",
    "\n",
    "rn = int(input(\"Find name of student whose roll no = \"))\n",
    "\n",
    "#find name using rollno in dictionary\n",
    "def findNameInDict(d,rn):\n",
    "    return d.get(rn, \"Roll number not found\")\n",
    "\n",
    "print(f\"Student name: {findNameInDict(dict1, rn)}\")"
   ]
  },
  {
   "cell_type": "markdown",
   "metadata": {},
   "source": [
    "### 10) Write a function to get the sum of the scores ending with zero.\n",
    "#### Example : scores = [200, 456, 300, 100, 234, 678] \n",
    "#### Ans = 200 + 300 + 100 = 600"
   ]
  },
  {
   "cell_type": "code",
   "execution_count": 17,
   "metadata": {},
   "outputs": [
    {
     "name": "stdout",
     "output_type": "stream",
     "text": [
      "[200, 300, 100]\n",
      "600\n"
     ]
    }
   ],
   "source": [
    "def sum_scores_ending_zero(scores) :\n",
    "    print(list(i for i in scores if i % 10 == 0))\n",
    "    ans = sum(i for i in scores if i % 10 == 0)\n",
    "    return ans\n",
    "    \n",
    "scores = [200, 456, 300, 100, 234, 678]\n",
    "print(sum_scores_ending_zero(scores))"
   ]
  },
  {
   "cell_type": "markdown",
   "metadata": {},
   "source": [
    "### 11) Write a function to invert a given Dictionary.\n",
    "#### hint: keys to values & values to keys\n",
    "#### Before : {'a': 10, 'b':20, 'c':30, 'd':40}\n",
    "#### After : {10:'a', 20:'b', 30:'c', 40:'d'}"
   ]
  },
  {
   "cell_type": "code",
   "execution_count": 29,
   "metadata": {},
   "outputs": [
    {
     "name": "stdout",
     "output_type": "stream",
     "text": [
      "Before : {10: 'a', 20: 'b', 30: 'c', 40: 'd'}\n",
      "After : {'a': 10, 'b': 20, 'c': 30, 'd': 40}\n"
     ]
    }
   ],
   "source": [
    "def invert_dict(d):\n",
    "    #dictionary comprehension v:k --> k,v\n",
    "    #print(d.items()) returns tuple --> dict_items([(10, 'a'), (20, 'b'), (30, 'c'), (40, 'd')])\n",
    "    d = {v:k for k, v in d.items()}\n",
    "    return d\n",
    "\n",
    "before = {10: 'a', 20: 'b', 30: 'c', 40: 'd'}\n",
    "print(\"Before :\", before)\n",
    "print(\"After :\", invert_dict(before)) "
   ]
  },
  {
   "cell_type": "code",
   "execution_count": 25,
   "metadata": {},
   "outputs": [
    {
     "name": "stdout",
     "output_type": "stream",
     "text": [
      "Before : {'a': 10, 'b': 20, 'c': 30, 'd': 40}\n",
      "After : {10: 'a', 20: 'b', 30: 'c', 40: 'd'}\n"
     ]
    }
   ],
   "source": [
    "def invert_dict(d):\n",
    "    d = {v:k for k, v in d.items()}\n",
    "    return d\n",
    "\n",
    "before = {'a': 10, 'b': 20, 'c': 30, 'd': 40}\n",
    "print(\"Before :\", before)\n",
    "print(\"After :\", invert_dict(before)) "
   ]
  },
  {
   "cell_type": "markdown",
   "metadata": {},
   "source": [
    "### 12) Write a function to check whether the given string is Pangram or not.\n",
    "#### hint: Pangram is a string containing all the characters a-z atlest once.\n",
    "#### \"the quick brown fox jumps over the lazy dog\" is a Pangram string."
   ]
  },
  {
   "cell_type": "code",
   "execution_count": 19,
   "metadata": {},
   "outputs": [
    {
     "name": "stdout",
     "output_type": "stream",
     "text": [
      "True\n",
      "False\n"
     ]
    }
   ],
   "source": [
    "def is_pangram(s):\n",
    "    alphabet = \"abcdefghijklmnopqrstuvwxyz\"\n",
    "    for i in alphabet:\n",
    "        if i not in s.lower():\n",
    "            return False\n",
    "    return True\n",
    "\n",
    "print(is_pangram(\"The quick brown fox jumps over the lazy dog\")) \n",
    "print(is_pangram(\"Hello World\")) "
   ]
  },
  {
   "cell_type": "markdown",
   "metadata": {},
   "source": [
    "### 13) Write a function that returns the number of uppercase and lowercase letters in the given string. \n",
    "#### example : Input : s1 = AbcDEfgh ,Ouptput : no_upper = 3, no_lower = 5"
   ]
  },
  {
   "cell_type": "code",
   "execution_count": 40,
   "metadata": {},
   "outputs": [
    {
     "name": "stdout",
     "output_type": "stream",
     "text": [
      "Uppercase : 3\n",
      "Lowercase : 10\n"
     ]
    }
   ],
   "source": [
    "s1 = \"Kunj J. Ramoliya\"\n",
    "\n",
    "def count_case(s1):\n",
    "    upper = sum(1 for i in s1 if i.isupper())\n",
    "    lower = sum(1 for i in s1 if i.islower())\n",
    "    return [upper, lower]\n",
    "\n",
    "no_upper,no_lower = count_case(s1)\n",
    "\n",
    "print(\"Uppercase :\", no_upper)\n",
    "print(\"Lowercase :\", no_lower)"
   ]
  },
  {
   "cell_type": "markdown",
   "metadata": {},
   "source": [
    "### 14) Write a lambda function to get smallest number from the given two numbers."
   ]
  },
  {
   "cell_type": "code",
   "execution_count": 44,
   "metadata": {},
   "outputs": [
    {
     "name": "stdout",
     "output_type": "stream",
     "text": [
      "Smaller of two :  10\n",
      "Smaller of two :  2\n"
     ]
    }
   ],
   "source": [
    "smaller = lambda a, b : a if a < b else b\n",
    "\n",
    "print(\"Smaller of two : \",smaller(10, 20))\n",
    "print(\"Smaller of two : \",smaller(5, 2))"
   ]
  },
  {
   "cell_type": "markdown",
   "metadata": {},
   "source": [
    "### 15) For the given list of names of students, extract the names having more that 7 characters. Use filter()."
   ]
  },
  {
   "cell_type": "code",
   "execution_count": 48,
   "metadata": {},
   "outputs": [
    {
     "name": "stdout",
     "output_type": "stream",
     "text": [
      "Names of length>7 :  ['DataStructure', 'WebTechnology']\n"
     ]
    }
   ],
   "source": [
    "names = [\"Java\", \"DataStructure\", \"Flutter\", \"WebTechnology\", \"Dart\", \"Python\"]\n",
    "\n",
    "long_names = list(filter(lambda name :len(name)>7, names))\n",
    "print(\"Names of length>7 : \",long_names)"
   ]
  },
  {
   "cell_type": "markdown",
   "metadata": {},
   "source": [
    "### 16) For the given list of names of students, convert the first letter of all the names into uppercase. use map()."
   ]
  },
  {
   "cell_type": "code",
   "execution_count": 52,
   "metadata": {},
   "outputs": [
    {
     "name": "stdout",
     "output_type": "stream",
     "text": [
      "['Firstname', 'Middlename', 'Lastname']\n"
     ]
    }
   ],
   "source": [
    "names = [\"firstName\", \"middleName\", \"lastName\"]\n",
    "\n",
    "capitalized_names = list(map(lambda name: name.capitalize(),names))\n",
    "print(capitalized_names)"
   ]
  },
  {
   "cell_type": "markdown",
   "metadata": {},
   "source": [
    "### 17) Write udfs to call the functions with following types of arguments:\n",
    "1. Positional Arguments\n",
    "2. Keyword Arguments\n",
    "3. Default Arguments\n",
    "4. Variable Legngth Positional(*args) & variable length Keyword Arguments (**kwargs)\n",
    "5. Keyword-Only & Positional Only Arguments"
   ]
  },
  {
   "cell_type": "code",
   "execution_count": 56,
   "metadata": {},
   "outputs": [
    {
     "name": "stdout",
     "output_type": "stream",
     "text": [
      "Name : Kunj\n",
      "Age : 20\n"
     ]
    }
   ],
   "source": [
    "#1. Positional Arguments\n",
    "def student_info(name, age):\n",
    "    print(\"Name :\", name)\n",
    "    print(\"Age :\", age)\n",
    "\n",
    "student_info(\"Kunj\", 20)  "
   ]
  },
  {
   "cell_type": "code",
   "execution_count": 58,
   "metadata": {},
   "outputs": [
    {
     "name": "stdout",
     "output_type": "stream",
     "text": [
      "Name : Kunj\n",
      "Age : 20\n"
     ]
    }
   ],
   "source": [
    "#2. Keyword Arguments\n",
    "def student_info(name, age) :\n",
    "    print(\"Name :\", name)\n",
    "    print(\"Age :\", age)\n",
    "\n",
    "student_info(age=20, name=\"Kunj\")"
   ]
  },
  {
   "cell_type": "code",
   "execution_count": 60,
   "metadata": {},
   "outputs": [
    {
     "name": "stdout",
     "output_type": "stream",
     "text": [
      "Name : Ramoliya , Age : 19\n",
      "Name : Kunj , Age : 20\n"
     ]
    }
   ],
   "source": [
    "#3. Default Arguments\n",
    "def student_info(name, age=19) :\n",
    "    print(\"Name :\", name, \", Age :\", age)\n",
    "    \n",
    "student_info(\"Ramoliya\") \n",
    "student_info(\"Kunj\", 20) "
   ]
  },
  {
   "cell_type": "code",
   "execution_count": 62,
   "metadata": {},
   "outputs": [
    {
     "name": "stdout",
     "output_type": "stream",
     "text": [
      "15\n"
     ]
    }
   ],
   "source": [
    "#4. Variable-Length Positional Arguments (*args)\n",
    "# jitne chahe utne args de sakte hai\n",
    "def sum_numbers(*args) :\n",
    "    ans = sum(args)\n",
    "    return ans\n",
    "    \n",
    "print(sum_numbers(1, 2, 3, 4, 5))"
   ]
  },
  {
   "cell_type": "code",
   "execution_count": 66,
   "metadata": {},
   "outputs": [
    {
     "name": "stdout",
     "output_type": "stream",
     "text": [
      "name : Kunj\n",
      "age : 20\n",
      "grade : O\n"
     ]
    }
   ],
   "source": [
    "#5. Variable-Length Keyword Arguments (**kwargs)\n",
    "# key value ki tarah args de sakte hai\n",
    "def student_details(**kwargs):\n",
    "    for key, value in kwargs.items():\n",
    "        print(key, \":\", value)\n",
    "\n",
    "student_details(name=\"Kunj\", age=20, grade=\"O\")"
   ]
  },
  {
   "cell_type": "code",
   "execution_count": null,
   "metadata": {},
   "outputs": [],
   "source": []
  }
 ],
 "metadata": {
  "kernelspec": {
   "display_name": "Python 3 (ipykernel)",
   "language": "python",
   "name": "python3"
  },
  "language_info": {
   "codemirror_mode": {
    "name": "ipython",
    "version": 3
   },
   "file_extension": ".py",
   "mimetype": "text/x-python",
   "name": "python",
   "nbconvert_exporter": "python",
   "pygments_lexer": "ipython3",
   "version": "3.12.7"
  }
 },
 "nbformat": 4,
 "nbformat_minor": 4
}
