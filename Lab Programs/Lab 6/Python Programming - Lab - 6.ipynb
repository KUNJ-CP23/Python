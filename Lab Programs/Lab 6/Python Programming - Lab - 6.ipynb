{
 "cells": [
  {
   "attachments": {},
   "cell_type": "markdown",
   "metadata": {},
   "source": [
    "<a href='https://www.darshan.ac.in/'> <img src='https://www.darshan.ac.in/Content/media/DU_Logo.svg' width=\"250\" height=\"300\"/></a>\n",
    "<pre>\n",
    "<center><b><h1>Python Programming - 2301CS404</b></center>\n",
    "<center><b><h1>Lab - 6</b></center>\n",
    "<center><b><h2>Kunj Ramoliya - 23010101222</b></center> \n",
    "<pre>"
   ]
  },
  {
   "cell_type": "markdown",
   "metadata": {},
   "source": [
    "# Tuple"
   ]
  },
  {
   "cell_type": "markdown",
   "metadata": {},
   "source": [
    "### 01) WAP to find sum of tuple elements."
   ]
  },
  {
   "cell_type": "code",
   "execution_count": 1,
   "metadata": {},
   "outputs": [
    {
     "name": "stdout",
     "output_type": "stream",
     "text": [
      "15\n"
     ]
    }
   ],
   "source": [
    "t1=(1,2,3,4,5)\n",
    "sum=0\n",
    "for i in t1:\n",
    "    sum += i\n",
    "print(sum)"
   ]
  },
  {
   "cell_type": "markdown",
   "metadata": {},
   "source": [
    "### 02) WAP to find Maximum and Minimum K elements in a given tuple."
   ]
  },
  {
   "cell_type": "code",
   "execution_count": 74,
   "metadata": {},
   "outputs": [
    {
     "name": "stdin",
     "output_type": "stream",
     "text": [
      "Enter k : 3\n"
     ]
    },
    {
     "name": "stdout",
     "output_type": "stream",
     "text": [
      "Maximum element is : [1, 2, 3] and minimum element is : [8, 9, 10]\n"
     ]
    }
   ],
   "source": [
    "t = (1,3,5,7,9,2,4,6,8,10)\n",
    "\n",
    "l = list(t)\n",
    "k = int(input(\"Enter k :\")) \n",
    "\n",
    "#null return karse\n",
    "#l = l.sort()\n",
    "\n",
    "l.sort()\n",
    "\n",
    "mini = l[:k:]\n",
    "maxi = l[-k:]\n",
    "\n",
    "print(f'Maximum element is : {max} and minimum element is : {min}')"
   ]
  },
  {
   "cell_type": "markdown",
   "metadata": {},
   "source": [
    "### 03) WAP to find tuples which have all elements divisible by K from a list of tuples."
   ]
  },
  {
   "cell_type": "code",
   "execution_count": 3,
   "metadata": {},
   "outputs": [
    {
     "name": "stdin",
     "output_type": "stream",
     "text": [
      "Enter k : 3\n"
     ]
    },
    {
     "name": "stdout",
     "output_type": "stream",
     "text": [
      "3 6 9 12 \n",
      "(3, 6, 9, 12)\n"
     ]
    }
   ],
   "source": [
    "l = [(1,2,3),(4,5,6),(7,8,9),(10,11,12)]\n",
    "\n",
    "k = int(input(\"Enter k :\"))\n",
    "\n",
    "# nested looping\n",
    "for i in l:\n",
    "    for j in i:\n",
    "        if(j%k == 0):\n",
    "            print(j,end=' ')\n",
    "\n",
    "# tuple comprehension\n",
    "t = tuple(j for i in l for j in i if (j % k) == 0)\n",
    "print('')\n",
    "print(t)"
   ]
  },
  {
   "cell_type": "markdown",
   "metadata": {},
   "source": [
    "### 04) WAP to create a list of tuples from given list having number and its cube in each tuple."
   ]
  },
  {
   "cell_type": "code",
   "execution_count": 78,
   "metadata": {},
   "outputs": [
    {
     "name": "stdout",
     "output_type": "stream",
     "text": [
      "[(1, 1), (2, 8), (3, 27), (4, 64), (5, 125)]\n"
     ]
    }
   ],
   "source": [
    "l = [1,2,3,4,5]\n",
    "ans = []\n",
    "\n",
    "for i in l:\n",
    "    t = (i,i**3)\n",
    "    ans.append(t)\n",
    "    \n",
    "print(ans)"
   ]
  },
  {
   "cell_type": "markdown",
   "metadata": {},
   "source": [
    "### 05) WAP to find tuples with all positive elements from the given list of tuples."
   ]
  },
  {
   "cell_type": "code",
   "execution_count": 50,
   "metadata": {},
   "outputs": [
    {
     "name": "stdout",
     "output_type": "stream",
     "text": [
      "Positive tuple : [(7, 8, 9)]\n"
     ]
    }
   ],
   "source": [
    "l = [(1,-2,3),(-4,5,-6),(7,8,9),(-10,11,12)]\n",
    "\n",
    "ans = []\n",
    "\n",
    "for i in l:\n",
    "    isPos = True\n",
    "    for j in i:\n",
    "        if(j<0):\n",
    "            isPos = False\n",
    "            break\n",
    "    if isPos:\n",
    "        ans.append(i)\n",
    "print('Positive tuple :',ans)"
   ]
  },
  {
   "cell_type": "markdown",
   "metadata": {},
   "source": [
    "### 06) WAP to add tuple to list and vice – versa."
   ]
  },
  {
   "cell_type": "code",
   "execution_count": 62,
   "metadata": {},
   "outputs": [
    {
     "name": "stdout",
     "output_type": "stream",
     "text": [
      "Tuple to List (answer returned here is list) : [6, 7, 8, 9, 10, 1, 2, 3, 4, 5]\n",
      "List to Tuple (answer returned here is tuple) : (6, 7, 8, 9, 10, 1, 2, 3, 4, 5)\n"
     ]
    }
   ],
   "source": [
    "l = [1,2,3,4,5]\n",
    "t = (6,7,8,9,10)\n",
    "\n",
    "t_to_l = list(t) + l\n",
    "print('Tuple to List (answer returned here is list) :',t_to_l)\n",
    "\n",
    "l_to_t = t + tuple(l)\n",
    "print('List to Tuple (answer returned here is tuple) :',l_to_t)"
   ]
  },
  {
   "cell_type": "markdown",
   "metadata": {},
   "source": [
    "### 07) WAP to remove tuples of length K."
   ]
  },
  {
   "cell_type": "code",
   "execution_count": 5,
   "metadata": {},
   "outputs": [
    {
     "name": "stdin",
     "output_type": "stream",
     "text": [
      "Enter k :  5\n"
     ]
    },
    {
     "name": "stdout",
     "output_type": "stream",
     "text": [
      "K length removed tuple : [(6, 97, 8, 9), (-10, 7, 11, 12)]\n"
     ]
    }
   ],
   "source": [
    "l = [(1,8,4,-2,3),(-4,7,9,5,-6),(6,97,8,9),(-10,7,11,12)]\n",
    "\n",
    "k = int(input('Enter k : '))\n",
    "ans= []\n",
    "for i in l:\n",
    "    if (len(i)!=k):\n",
    "        # t = list(i)\n",
    "        # pop method is for integer only\n",
    "        # l.pop(t)\n",
    "        ans.append(i)\n",
    "print('K length removed tuple :',ans)"
   ]
  },
  {
   "cell_type": "markdown",
   "metadata": {},
   "source": [
    "### 08) WAP to remove duplicates from tuple."
   ]
  },
  {
   "cell_type": "code",
   "execution_count": 18,
   "metadata": {},
   "outputs": [
    {
     "name": "stdout",
     "output_type": "stream",
     "text": [
      "Tuple after removing duplicates: (0, 1, 2, 3, 4, 5)\n"
     ]
    }
   ],
   "source": [
    "t = (1,4,2,3,2,3,1,0,0,1,2,2,4,4,4,5,5,)\n",
    "\n",
    "#convert tuple to set, it don't allow dupes\n",
    "tu = tuple(set(t))\n",
    "\n",
    "print(\"Tuple after removing duplicates:\", tu)"
   ]
  },
  {
   "cell_type": "markdown",
   "metadata": {},
   "source": [
    "### 09) WAP to multiply adjacent elements of a tuple and print that resultant tuple."
   ]
  },
  {
   "cell_type": "code",
   "execution_count": 20,
   "metadata": {},
   "outputs": [
    {
     "name": "stdout",
     "output_type": "stream",
     "text": [
      "Multiplied Tuple: (2, 6, 12, 20)\n"
     ]
    }
   ],
   "source": [
    "t = (1, 2, 3, 4, 5)\n",
    "\n",
    "ans = tuple((t[i] * t[i+1]) for i in range(len(t)-1))\n",
    "\n",
    "print(\"Multiplied Tuple:\", ans)"
   ]
  },
  {
   "cell_type": "markdown",
   "metadata": {},
   "source": [
    "### 10) WAP to test if the given tuple is distinct or not."
   ]
  },
  {
   "cell_type": "code",
   "execution_count": 22,
   "metadata": {},
   "outputs": [
    {
     "name": "stdout",
     "output_type": "stream",
     "text": [
      "Not Distinct\n"
     ]
    }
   ],
   "source": [
    "t = (1, 2, 3, 4, 4, 5)\n",
    "\n",
    "if len(t) == len(set(t)):\n",
    "    print(\"Distinct\")\n",
    "else:\n",
    "    print(\"Not Distinct\")"
   ]
  },
  {
   "cell_type": "code",
   "execution_count": 24,
   "metadata": {},
   "outputs": [
    {
     "name": "stdout",
     "output_type": "stream",
     "text": [
      "Distinct\n"
     ]
    }
   ],
   "source": [
    "t = (1, 2, 3, 4, 5)\n",
    "\n",
    "if len(t) == len(set(t)):\n",
    "    print(\"Distinct\")\n",
    "else:\n",
    "    print(\"Not Distinct\")"
   ]
  },
  {
   "cell_type": "code",
   "execution_count": 26,
   "metadata": {},
   "outputs": [
    {
     "name": "stdout",
     "output_type": "stream",
     "text": [
      "Not Distinct\n"
     ]
    }
   ],
   "source": [
    "t = (1, 2, 3, 4, 5, 4, 3)\n",
    "\n",
    "is_distinct = True\n",
    "\n",
    "for i in range(len(t)) :\n",
    "    \n",
    "    for j in range(i + 1, len(t)) :\n",
    "        if t[i] == t[j] :\n",
    "            is_distinct = False\n",
    "            break  \n",
    "            \n",
    "    if not is_distinct:\n",
    "        break \n",
    "        \n",
    "if is_distinct:\n",
    "    print(\"Distinct\")\n",
    "else:\n",
    "    print(\"Not Distinct\")"
   ]
  },
  {
   "cell_type": "code",
   "execution_count": 28,
   "metadata": {},
   "outputs": [
    {
     "name": "stdout",
     "output_type": "stream",
     "text": [
      "Not Distinct\n"
     ]
    }
   ],
   "source": [
    "t = (1, 2, 3, 4, 5)\n",
    "\n",
    "isDistinct = True\n",
    "\n",
    "for i in t :\n",
    "    if(t.count(i) > 1) :\n",
    "        isDistinct = False\n",
    "        break\n",
    "\n",
    "if is_distinct:\n",
    "    print(\"Distinct\")\n",
    "else:\n",
    "    print(\"Not Distinct\")"
   ]
  },
  {
   "cell_type": "code",
   "execution_count": null,
   "metadata": {},
   "outputs": [],
   "source": []
  }
 ],
 "metadata": {
  "kernelspec": {
   "display_name": "Python 3 (ipykernel)",
   "language": "python",
   "name": "python3"
  },
  "language_info": {
   "codemirror_mode": {
    "name": "ipython",
    "version": 3
   },
   "file_extension": ".py",
   "mimetype": "text/x-python",
   "name": "python",
   "nbconvert_exporter": "python",
   "pygments_lexer": "ipython3",
   "version": "3.12.7"
  }
 },
 "nbformat": 4,
 "nbformat_minor": 4
}
