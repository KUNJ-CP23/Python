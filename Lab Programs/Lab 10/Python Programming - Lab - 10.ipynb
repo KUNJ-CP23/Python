{
 "cells": [
  {
   "cell_type": "markdown",
   "metadata": {},
   "source": [
    "<a href='https://www.darshan.ac.in/'> <img src='https://www.darshan.ac.in/Content/media/DU_Logo.svg' width=\"250\" height=\"300\"/></a>\n",
    "<pre>\n",
    "<center><b><h1>Python Programming - 2301CS404</b></center>\n",
    "<center><b><h1>Lab - 10</b></center>\n",
    "<center><b><h2>Kunj Ramoliya | 2301010122 | A1-115</h2></b></center>\n",
    "<pre>"
   ]
  },
  {
   "cell_type": "markdown",
   "metadata": {},
   "source": [
    "# Exception Handling"
   ]
  },
  {
   "cell_type": "markdown",
   "metadata": {},
   "source": [
    "### 01) WAP to handle following exceptions:\n",
    "1. ZeroDivisionError\n",
    "2. ValueError\n",
    "3. TypeError\n",
    "#### Note: handle them using separate except blocks and also using single except block too."
   ]
  },
  {
   "cell_type": "code",
   "execution_count": 9,
   "metadata": {},
   "outputs": [
    {
     "name": "stdin",
     "output_type": "stream",
     "text": [
      "Enter a : 4\n",
      "Enter b : kunj\n"
     ]
    },
    {
     "name": "stdout",
     "output_type": "stream",
     "text": [
      "Error : ValueError...!!\n"
     ]
    }
   ],
   "source": [
    "try :\n",
    "    a = int(input(\"Enter a :\"))\n",
    "    b = int(input(\"Enter b :\"))\n",
    "\n",
    "    ans = a // b\n",
    "    print(\"Ans :\", ans)\n",
    "except ZeroDivisionError:\n",
    "    print(\"Error : ZeroivisionError...!!\")\n",
    "\n",
    "except ValueError :\n",
    "    print(\"Error : ValueError...!!\")\n",
    "\n",
    "except TypeError :\n",
    "    print(\"Error : TypeError...!!\")"
   ]
  },
  {
   "cell_type": "code",
   "execution_count": 11,
   "metadata": {},
   "outputs": [
    {
     "name": "stdin",
     "output_type": "stream",
     "text": [
      "Enter a : 3\n",
      "Enter b : 0\n"
     ]
    },
    {
     "name": "stdout",
     "output_type": "stream",
     "text": [
      "Error : integer division or modulo by zero\n"
     ]
    }
   ],
   "source": [
    "try:\n",
    "    a = int(input(\"Enter a :\"))\n",
    "    b = int(input(\"Enter b :\"))\n",
    "\n",
    "    ans = a // b\n",
    "    print(\"Ans :\", ans)\n",
    "\n",
    "except (ZeroDivisionError, ValueError, TypeError) as err :\n",
    "    print(\"Error :\", err)"
   ]
  },
  {
   "cell_type": "markdown",
   "metadata": {},
   "source": [
    "### 02)  WAP to handle following exceptions:\n",
    "1. IndexError\n",
    "2. KeyError"
   ]
  },
  {
   "cell_type": "code",
   "execution_count": 17,
   "metadata": {},
   "outputs": [
    {
     "name": "stdout",
     "output_type": "stream",
     "text": [
      "Error :  list index out of range\n"
     ]
    }
   ],
   "source": [
    "try:\n",
    "    li=[1,2,3]\n",
    "    print(li[5])\n",
    "except IndexError as err:\n",
    "    print(\"Error : \",err)"
   ]
  },
  {
   "cell_type": "code",
   "execution_count": 21,
   "metadata": {},
   "outputs": [
    {
     "name": "stdout",
     "output_type": "stream",
     "text": [
      "KeyError : Key not found Error : 5\n"
     ]
    }
   ],
   "source": [
    "try :\n",
    "    d = {1:\"a\", 2:\"b\", 3:\"c\", 4:\"d\"}\n",
    "    print(d[5])\n",
    "\n",
    "except KeyError as err : \n",
    "    print(\"KeyError : Key not found Error :\", err)"
   ]
  },
  {
   "cell_type": "markdown",
   "metadata": {},
   "source": [
    "### 03) WAP to handle following exceptions:\n",
    "1. FileNotFoundError\n",
    "2. ModuleNotFoundError"
   ]
  },
  {
   "cell_type": "code",
   "execution_count": 23,
   "metadata": {},
   "outputs": [
    {
     "name": "stdout",
     "output_type": "stream",
     "text": [
      "Error:  [Errno 2] No such file or directory: 'nonExistentFile.txt'\n"
     ]
    }
   ],
   "source": [
    "try:\n",
    "    fp =open(\"nonExistentFile.txt\", \"r\") \n",
    "    data = fp.read() \n",
    "\n",
    "except FileNotFoundError as err:\n",
    "    print(\"Error: \", err)"
   ]
  },
  {
   "cell_type": "code",
   "execution_count": 25,
   "metadata": {},
   "outputs": [
    {
     "name": "stdout",
     "output_type": "stream",
     "text": [
      "Error : No module named 'nonExistentModule'\n"
     ]
    }
   ],
   "source": [
    "try :\n",
    "    import nonExistentModule\n",
    "\n",
    "except ModuleNotFoundError as err :\n",
    "    print(\"Error :\", err)"
   ]
  },
  {
   "cell_type": "markdown",
   "metadata": {},
   "source": [
    "### 04) WAP that catches all type of exceptions in a single except block."
   ]
  },
  {
   "cell_type": "code",
   "execution_count": 35,
   "metadata": {},
   "outputs": [
    {
     "name": "stdin",
     "output_type": "stream",
     "text": [
      "Enter a : 4\n",
      "Enter b : 2\n"
     ]
    },
    {
     "name": "stdout",
     "output_type": "stream",
     "text": [
      "Ans : 2\n",
      "An error occurred : list index out of range\n"
     ]
    }
   ],
   "source": [
    "try:\n",
    "    a = int(input(\"Enter a :\"))\n",
    "    b = int(input(\"Enter b :\"))\n",
    "\n",
    "    ans = a // b\n",
    "    print(\"Ans :\", ans)\n",
    "\n",
    "    li = [1, 2, 3]\n",
    "    print(li[5]) \n",
    "\n",
    "except Exception as err :\n",
    "    print(\"An error occurred :\", err)"
   ]
  },
  {
   "cell_type": "code",
   "execution_count": 37,
   "metadata": {},
   "outputs": [
    {
     "name": "stdin",
     "output_type": "stream",
     "text": [
      "Enter a : 3\n",
      "Enter b : 0\n"
     ]
    },
    {
     "name": "stdout",
     "output_type": "stream",
     "text": [
      "An error occurred : integer division or modulo by zero\n"
     ]
    }
   ],
   "source": [
    "try:\n",
    "    a = int(input(\"Enter a :\"))\n",
    "    b = int(input(\"Enter b :\"))\n",
    "\n",
    "    # if this will have inputs 3 and o then below list exception won't be executed\n",
    "    ans = a // b\n",
    "    print(\"Ans :\", ans)\n",
    "\n",
    "    li = [1, 2, 3]\n",
    "    print(li[5]) \n",
    "\n",
    "except Exception as err :\n",
    "    print(\"An error occurred :\", err)"
   ]
  },
  {
   "cell_type": "markdown",
   "metadata": {},
   "source": [
    "### 05) WAP to demonstrate else  and finally block."
   ]
  },
  {
   "cell_type": "code",
   "execution_count": 43,
   "metadata": {},
   "outputs": [
    {
     "name": "stdin",
     "output_type": "stream",
     "text": [
      "Enter a : 4\n",
      "Enter b : 2\n"
     ]
    },
    {
     "name": "stdout",
     "output_type": "stream",
     "text": [
      "Ans : 2\n",
      "Execution completed👍🏻\n"
     ]
    }
   ],
   "source": [
    "try:\n",
    "    a = int(input(\"Enter a :\"))\n",
    "    b = int(input(\"Enter b :\"))\n",
    "\n",
    "    ans = a // b\n",
    "\n",
    "except ZeroDivisionError as err:\n",
    "    print(\"Error : \", err)\n",
    "\n",
    "except ValueError as err2:\n",
    "    print(\"Error : \", err2)\n",
    "    \n",
    "else :\n",
    "    print(\"Ans :\", ans)\n",
    "    # else and exception won't work together\n",
    "finally:\n",
    "    print(\"Execution completed👍🏻\")"
   ]
  },
  {
   "cell_type": "markdown",
   "metadata": {},
   "source": [
    "### 06) Create a short program that prompts the user for a list of grades separated by commas. \n",
    "### Split the string into individual grades and use a list comprehension to convert each string to an integer. \n",
    "### You should use a try statement to inform the user when the values they entered cannot be converted."
   ]
  },
  {
   "cell_type": "code",
   "execution_count": 47,
   "metadata": {},
   "outputs": [
    {
     "name": "stdin",
     "output_type": "stream",
     "text": [
      "Enter grades separated by commas :  99,96,95,94,93,95\n"
     ]
    },
    {
     "name": "stdout",
     "output_type": "stream",
     "text": [
      "Grades : [99, 96, 95, 94, 93, 95]\n"
     ]
    }
   ],
   "source": [
    "try:\n",
    "    grades = input(\"Enter grades separated by commas : \")\n",
    "    li = [int(i.strip()) for i in grades.split(\",\")]\n",
    "    print(\"Grades :\", li)\n",
    "    \n",
    "except ValueError as err :\n",
    "    print(\"Error :\", err)"
   ]
  },
  {
   "cell_type": "markdown",
   "metadata": {},
   "source": [
    "### 07) WAP to create an udf divide(a,b) that handles ZeroDivisionError."
   ]
  },
  {
   "cell_type": "code",
   "execution_count": 57,
   "metadata": {},
   "outputs": [
    {
     "name": "stdin",
     "output_type": "stream",
     "text": [
      "Enter a : 3\n",
      "Enter b : 0\n"
     ]
    },
    {
     "name": "stdout",
     "output_type": "stream",
     "text": [
      "division by zero\n"
     ]
    }
   ],
   "source": [
    "def divide(a,b):\n",
    "    try:\n",
    "        return a/b\n",
    "    except ZeroDivisionError as err:\n",
    "        return (err)\n",
    "\n",
    "a = int(input(\"Enter a :\"))\n",
    "b = int(input(\"Enter b :\"))\n",
    "\n",
    "print(divide(a,b))"
   ]
  },
  {
   "cell_type": "markdown",
   "metadata": {},
   "source": [
    "### 08) WAP that gets an age of a person form the user and raises ValueError with error message: \"Enter Valid Age\" :\n",
    "#### If the age is less than 18. \n",
    "#### otherwise print the age."
   ]
  },
  {
   "cell_type": "code",
   "execution_count": 65,
   "metadata": {},
   "outputs": [
    {
     "name": "stdin",
     "output_type": "stream",
     "text": [
      "Enter your age :  16\n"
     ]
    },
    {
     "name": "stdout",
     "output_type": "stream",
     "text": [
      "Error : Enter Valid Age\n"
     ]
    }
   ],
   "source": [
    "try:\n",
    "    age = int(input(\"Enter your age : \"))\n",
    "    \n",
    "    if age < 18 :\n",
    "        raise ValueError(\"Enter Valid Age\")\n",
    "        \n",
    "    print(\"Your age is :\", age)\n",
    "    \n",
    "except ValueError as err :\n",
    "    print(\"Error :\", err)"
   ]
  },
  {
   "cell_type": "markdown",
   "metadata": {},
   "source": [
    "### 09) WAP to raise your custom Exception named InvalidUsernameError with the error message : \"Username must be between 5 and 15 characters long\":\n",
    "#### if the given name is having characters less than 5 or greater than 15.\n",
    "#### otherwise print the given username."
   ]
  },
  {
   "cell_type": "code",
   "execution_count": 67,
   "metadata": {},
   "outputs": [
    {
     "name": "stdin",
     "output_type": "stream",
     "text": [
      "Enter your username :  Kunj\n"
     ]
    },
    {
     "name": "stdout",
     "output_type": "stream",
     "text": [
      "Error : Username must be between 5 and 15 characters long\n"
     ]
    }
   ],
   "source": [
    "class InvalidUsernameError(Exception) :\n",
    "    pass\n",
    "\n",
    "try:\n",
    "    name = input(\"Enter your username : \")\n",
    "    \n",
    "    if len(name) < 5 or len(name) > 15 :\n",
    "        raise InvalidUsernameError(\"Username must be between 5 and 15 characters long\")\n",
    "        \n",
    "    print(\"Username :\", name)\n",
    "    \n",
    "except InvalidUsernameError as err :\n",
    "    print(\"Error :\", err)"
   ]
  },
  {
   "cell_type": "markdown",
   "metadata": {},
   "source": [
    "### 10) WAP to raise your custom Exception named NegativeNumberError with the error message : \"Cannot calculate the square root of a negative number\" :\n",
    "#### if the given number is negative.\n",
    "#### otherwise print the square root of the given number."
   ]
  },
  {
   "cell_type": "code",
   "execution_count": 69,
   "metadata": {},
   "outputs": [
    {
     "name": "stdin",
     "output_type": "stream",
     "text": [
      "Enter a number :  -4\n"
     ]
    },
    {
     "name": "stdout",
     "output_type": "stream",
     "text": [
      "Error : Cannot calculate the square root of a negative number\n"
     ]
    }
   ],
   "source": [
    "import math\n",
    "\n",
    "class NegativeNumberError(Exception) :\n",
    "    pass\n",
    "\n",
    "try:\n",
    "    n = float(input(\"Enter a number : \"))\n",
    "    \n",
    "    if n < 0 :\n",
    "        raise NegativeNumberError(\"Cannot calculate the square root of a negative number\")\n",
    "        \n",
    "    print(\"Square root :\", math.sqrt(n))\n",
    "    \n",
    "except NegativeNumberError as err :\n",
    "    print(\"Error :\", err)"
   ]
  },
  {
   "cell_type": "code",
   "execution_count": null,
   "metadata": {},
   "outputs": [],
   "source": []
  }
 ],
 "metadata": {
  "kernelspec": {
   "display_name": "Python 3 (ipykernel)",
   "language": "python",
   "name": "python3"
  },
  "language_info": {
   "codemirror_mode": {
    "name": "ipython",
    "version": 3
   },
   "file_extension": ".py",
   "mimetype": "text/x-python",
   "name": "python",
   "nbconvert_exporter": "python",
   "pygments_lexer": "ipython3",
   "version": "3.12.7"
  }
 },
 "nbformat": 4,
 "nbformat_minor": 4
}
