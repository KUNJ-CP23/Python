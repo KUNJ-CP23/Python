{
 "cells": [
  {
   "cell_type": "markdown",
   "metadata": {},
   "source": [
    "\n",
    "<a href='https://www.darshan.ac.in/'> <img src='https://www.darshan.ac.in/Content/media/DU_Logo.svg' width=\"250\" height=\"300\"/></a>\n",
    "<pre>\n",
    "<center><b><h1>Python Programming - 2301CS404</b></center>\n",
    "<center><b><h1>Lab - 2</b></center>  \n",
    "<center><h2>Kunj Ramoliya</h2></center> \n",
    "<pre>"
   ]
  },
  {
   "cell_type": "markdown",
   "metadata": {},
   "source": [
    "# if..else.."
   ]
  },
  {
   "cell_type": "markdown",
   "metadata": {},
   "source": [
    "### 01) WAP to check whether the given number is positive or negative."
   ]
  },
  {
   "cell_type": "code",
   "execution_count": 17,
   "metadata": {},
   "outputs": [
    {
     "name": "stdin",
     "output_type": "stream",
     "text": [
      "Enter a number :  -23\n"
     ]
    },
    {
     "name": "stdout",
     "output_type": "stream",
     "text": [
      "Negative number\n"
     ]
    }
   ],
   "source": [
    "a = int(input(\"Enter a number : \"))\n",
    "\n",
    "if a >= 0:\n",
    "    print(\"Positive number\")\n",
    "else:\n",
    "    print(\"Negative number\")"
   ]
  },
  {
   "cell_type": "markdown",
   "metadata": {},
   "source": [
    "### 02) WAP to check whether the given number is odd or even."
   ]
  },
  {
   "cell_type": "code",
   "execution_count": 23,
   "metadata": {},
   "outputs": [
    {
     "name": "stdin",
     "output_type": "stream",
     "text": [
      "Enter a number :  45\n"
     ]
    },
    {
     "name": "stdout",
     "output_type": "stream",
     "text": [
      "Odd number\n"
     ]
    }
   ],
   "source": [
    "b = int(input(\"Enter a number : \"))\n",
    "\n",
    "if b%2 == 0:\n",
    "    print(\"Even number\")\n",
    "else:\n",
    "    print(\"Odd number\")"
   ]
  },
  {
   "cell_type": "markdown",
   "metadata": {},
   "source": [
    "### 03) WAP to find out largest number from given two numbers using simple if and ternary operator."
   ]
  },
  {
   "cell_type": "code",
   "execution_count": 19,
   "metadata": {},
   "outputs": [
    {
     "name": "stdin",
     "output_type": "stream",
     "text": [
      "First number :  5\n",
      "Second number :  3\n"
     ]
    },
    {
     "name": "stdout",
     "output_type": "stream",
     "text": [
      "A is largest\n"
     ]
    }
   ],
   "source": [
    "a = int(input(\"First number : \"))\n",
    "b = int(input(\"Second number : \"))\n",
    "\n",
    "print(\"A is largest\") if a>b else print(\"B is largest\")"
   ]
  },
  {
   "cell_type": "markdown",
   "metadata": {},
   "source": [
    "### 04) WAP to find out largest number from given three numbers."
   ]
  },
  {
   "cell_type": "code",
   "execution_count": 21,
   "metadata": {},
   "outputs": [
    {
     "name": "stdin",
     "output_type": "stream",
     "text": [
      "Enter a :  6\n",
      "Enter b :  8\n",
      "Enter c :  3\n"
     ]
    },
    {
     "name": "stdout",
     "output_type": "stream",
     "text": [
      "B is largest\n"
     ]
    }
   ],
   "source": [
    "a = int(input(\"Enter a : \"))\n",
    "b = int(input(\"Enter b : \"))\n",
    "c = int(input(\"Enter c : \"))\n",
    "\n",
    "if a>b:\n",
    "    if a>c:\n",
    "       print(\"A is largest\")\n",
    "    else:\n",
    "       print(\"C is largest\")\n",
    "else:\n",
    "    if b>c:\n",
    "       print(\"B is largest\")\n",
    "    else:\n",
    "       print(\"C is largest\")"
   ]
  },
  {
   "cell_type": "markdown",
   "metadata": {},
   "source": [
    "### 05) WAP to check whether the given year is leap year or not.\n",
    "[If a year can be divisible by 4 but not divisible by 100 then it is leap year but if it is divisible by 400 then it is leap year]"
   ]
  },
  {
   "cell_type": "code",
   "execution_count": 29,
   "metadata": {},
   "outputs": [
    {
     "name": "stdin",
     "output_type": "stream",
     "text": [
      "Enter year :  2024\n"
     ]
    },
    {
     "name": "stdout",
     "output_type": "stream",
     "text": [
      "It's a leap year\n"
     ]
    }
   ],
   "source": [
    "year = float(input(\"Enter year : \"))\n",
    "\n",
    "if year%4 == 0:\n",
    "    if year%100 != 0:\n",
    "        print(\"It's a leap year\")\n",
    "    else:\n",
    "        print(\"It's not a leap year\")\n",
    "elif year%400 == 0:\n",
    "    print(\"It's a leap year\")\n",
    "else:\n",
    "    print(\"It's not a leap year\")"
   ]
  },
  {
   "cell_type": "markdown",
   "metadata": {},
   "source": [
    "### 06) WAP in python to display the name of the day according to the number given by the user."
   ]
  },
  {
   "cell_type": "code",
   "execution_count": 36,
   "metadata": {},
   "outputs": [
    {
     "name": "stdin",
     "output_type": "stream",
     "text": [
      "Enter number from 1 to 7 :  5\n"
     ]
    },
    {
     "name": "stdout",
     "output_type": "stream",
     "text": [
      "F\n"
     ]
    }
   ],
   "source": [
    "n = int(input(\"Enter number from 1 to 7 : \"))\n",
    "\n",
    "match n:\n",
    "    case 1:\n",
    "        print(\"Sh#t! It's Monday\")\n",
    "    case 2:\n",
    "        print(\"huh! Tuesday\")\n",
    "    case 3:\n",
    "        print(\"W\")\n",
    "    case 4:\n",
    "        print(\"T\")\n",
    "    case 5:\n",
    "        print(\"F\")\n",
    "    case 6:\n",
    "        print(\"Weekend! yeah, Saturday\")\n",
    "    case 7:\n",
    "        print(\"Sunday! Ooo\")\n",
    "    case default:\n",
    "        print(\"Enter valid number\")"
   ]
  },
  {
   "cell_type": "markdown",
   "metadata": {},
   "source": [
    "### 07) WAP to implement simple calculator which performs (add,sub,mul,div) of two no. based on user input."
   ]
  },
  {
   "cell_type": "code",
   "execution_count": 50,
   "metadata": {},
   "outputs": [
    {
     "name": "stdin",
     "output_type": "stream",
     "text": [
      "Enter first num :  4\n",
      "Enter second num :  8\n",
      "+ , -, *, / (select choice) :  /\n"
     ]
    },
    {
     "name": "stdout",
     "output_type": "stream",
     "text": [
      "Division : 0.5\n"
     ]
    }
   ],
   "source": [
    "a = float(input(\"Enter first num : \"))\n",
    "b = float(input(\"Enter second num : \"))\n",
    "choice = input(\"+ , -, *, / (select choice) : \")\n",
    "\n",
    "match choice:\n",
    "    case '+':\n",
    "        print(f\"Summation : {a+b}\")\n",
    "    case '-':\n",
    "        print(f\"Difference : {a-b}\")\n",
    "    case '*':\n",
    "        print(f\"Product : {a*b}\")\n",
    "    case '/':\n",
    "        print(f\"Division : {a/b}\")\n",
    "    case default:\n",
    "        print(\"Sahi input dala karo yaar!\")"
   ]
  },
  {
   "cell_type": "markdown",
   "metadata": {},
   "source": [
    "### 08) WAP to read marks of five subjects. Calculate percentage and print class accordingly. \n",
    "Fail below 35 </br>\n",
    "Pass Class between 35 to 45 </br>\n",
    "Second Class</br>\n",
    "between 45 to 60</br>\n",
    "First Class between 60 to 70</br> \n",
    "Distinction if more than 70"
   ]
  },
  {
   "cell_type": "code",
   "execution_count": 58,
   "metadata": {},
   "outputs": [
    {
     "name": "stdin",
     "output_type": "stream",
     "text": [
      " 98\n",
      " 89\n",
      " 87\n",
      " 89\n",
      " 99\n"
     ]
    },
    {
     "name": "stdout",
     "output_type": "stream",
     "text": [
      "Distinction\n"
     ]
    }
   ],
   "source": [
    "marks = []\n",
    "\n",
    "for i in range(0,5):\n",
    "    mark = int(input())\n",
    "    marks.append(mark)\n",
    "\n",
    "total = (sum(marks)/5)\n",
    "\n",
    "if total>70:\n",
    "    print(\"Distinction\")\n",
    "elif total>60 and total<70:\n",
    "    print(\"First Class\")\n",
    "elif total>45 and total<60:\n",
    "    print(\"Second Class\")\n",
    "elif total>35 and total<45:\n",
    "    print(\"Pass\")\n",
    "else:\n",
    "    print(\"Fail\")"
   ]
  },
  {
   "cell_type": "markdown",
   "metadata": {},
   "source": [
    "### 09) Three sides of a triangle are entered through the keyboard, WAP to check whether the triangle is isosceles, equilateral, scalene or right-angled triangle."
   ]
  },
  {
   "cell_type": "code",
   "execution_count": 72,
   "metadata": {},
   "outputs": [
    {
     "name": "stdin",
     "output_type": "stream",
     "text": [
      "Enter side1 :  3\n",
      "Enter side2 :  4\n",
      "Enter side3 :  5\n"
     ]
    },
    {
     "name": "stdout",
     "output_type": "stream",
     "text": [
      "Right Angled Scalene Triangle\n"
     ]
    }
   ],
   "source": [
    "s1 = int(input(\"Enter side1 : \"))\n",
    "s2 = int(input(\"Enter side2 : \"))\n",
    "s3 = int(input(\"Enter side3 : \"))\n",
    "\n",
    "if s1 == s2 == s3:\n",
    "    print(\"Equilateral Triangle\")\n",
    "elif (s1**2+s2**2 == s3**2) or (s3**2+s2**2 == s1**2) or (s1**2+s3**2 == s1**2):\n",
    "    if s1 != s2 != s3:\n",
    "        print(\"Right Angled Scalene Triangle\")\n",
    "    elif (s1 == s2 != s3) or (s3 == s2 != s1) or (s1 == s3 != s2):\n",
    "        print(\"Right Angled Isosceles Triangle\")\n",
    "    else:\n",
    "        print(\"Right Angled\")\n",
    "elif (s1 == s2 != s3) or (s3 == s2 != s1) or (s1 == s3 != s2):\n",
    "    print(\"Isosceles Triangle\")\n",
    "else:\n",
    "    print(\"Scalene Triangle\")"
   ]
  },
  {
   "cell_type": "markdown",
   "metadata": {},
   "source": [
    "### 10) WAP to find the second largest number among three user input numbers."
   ]
  },
  {
   "cell_type": "code",
   "execution_count": 7,
   "metadata": {},
   "outputs": [
    {
     "name": "stdin",
     "output_type": "stream",
     "text": [
      "Enter a:  4\n",
      "Enter b:  7\n",
      "Enter c:  3\n"
     ]
    },
    {
     "name": "stdout",
     "output_type": "stream",
     "text": [
      "4 is second largest\n"
     ]
    }
   ],
   "source": [
    "a = int(input(\"Enter a : \"))\n",
    "b = int(input(\"Enter b : \"))\n",
    "c = int(input(\"Enter c : \"))\n",
    "\n",
    "#op logic\n",
    "# if a>b:\n",
    "#     if (b>c) and (a>c):\n",
    "#        print(\"B is second largest\")\n",
    "#     elif(a>c) and (b<c):\n",
    "#        print(\"C is second largest\")\n",
    "#     elif(a<c) and (b<c):\n",
    "#        print(\"A is second largest\")\n",
    "# elif a<b:\n",
    "#     if (a<c and b<c):\n",
    "#        print(\"B is second largest\")\n",
    "#     elif(a<c and b>c):\n",
    "#        print(\"C is second largest\")\n",
    "#     elif(a>c) and (b>c):\n",
    "#        print(\"A is second largest\")\n",
    "\n",
    "k = [a,b,c]\n",
    "k.sort()\n",
    "print(f\"{k[1]} is second largest\")"
   ]
  },
  {
   "cell_type": "markdown",
   "metadata": {},
   "source": [
    "### 11) WAP to calculate electricity bill based on following criteria. Which takes the unit from the user.\n",
    "a. First 1 to 50 units – Rs. 2.60/unit</br>\n",
    "b. Next 50 to 100 units – Rs. 3.25/unit</br>\n",
    "c. Next 100 to 200 units – Rs. 5.26/unit</br>\n",
    "d. above 200 units – Rs. 8.45/unit"
   ]
  },
  {
   "cell_type": "code",
   "execution_count": 11,
   "metadata": {},
   "outputs": [
    {
     "name": "stdin",
     "output_type": "stream",
     "text": [
      "Enter unit:  3\n"
     ]
    },
    {
     "name": "stdout",
     "output_type": "stream",
     "text": [
      "2.6\n"
     ]
    }
   ],
   "source": [
    "u = int(input(\"Enter unit: \"))\n",
    "total = 0\n",
    "\n",
    "if u>=1 and u<50:\n",
    "    total = 2.6\n",
    "elif u>=50 and u<100:\n",
    "    total = 2.6 + 3.25\n",
    "elif u>=100 and u<200:\n",
    "    total = 2.6 + 3.25 + 5.26\n",
    "elif u>=200:\n",
    "    total = 2.6 + 3.25 + 5.26 + 8.45\n",
    "\n",
    "print(total)"
   ]
  },
  {
   "cell_type": "code",
   "execution_count": null,
   "metadata": {},
   "outputs": [],
   "source": []
  }
 ],
 "metadata": {
  "kernelspec": {
   "display_name": "Python 3 (ipykernel)",
   "language": "python",
   "name": "python3"
  },
  "language_info": {
   "codemirror_mode": {
    "name": "ipython",
    "version": 3
   },
   "file_extension": ".py",
   "mimetype": "text/x-python",
   "name": "python",
   "nbconvert_exporter": "python",
   "pygments_lexer": "ipython3",
   "version": "3.12.7"
  }
 },
 "nbformat": 4,
 "nbformat_minor": 4
}
